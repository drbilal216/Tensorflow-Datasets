{
 "cells": [
  {
   "cell_type": "markdown",
   "metadata": {},
   "source": [
    "# MNIST Fashion"
   ]
  },
  {
   "cell_type": "markdown",
   "metadata": {},
   "source": [
    "Fashion-MNIST is a dataset of Zalando's article images—consisting of a training set of 60,000 examples and a test set of 10,000 examples. Each example is a 28x28 grayscale image, associated with a label from 10 classes."
   ]
  },
  {
   "cell_type": "markdown",
   "metadata": {},
   "source": [
    "# Importing Libraries"
   ]
  },
  {
   "cell_type": "code",
   "execution_count": 1,
   "metadata": {},
   "outputs": [],
   "source": [
    "import numpy as np\n",
    "import pandas as pd\n",
    "import tensorflow as tf\n",
    "import matplotlib.pyplot as plt"
   ]
  },
  {
   "cell_type": "markdown",
   "metadata": {},
   "source": [
    "# Loading Mnist Fashion dataset from the Internet"
   ]
  },
  {
   "cell_type": "code",
   "execution_count": 2,
   "metadata": {},
   "outputs": [],
   "source": [
    "from tensorflow.keras.datasets import fashion_mnist\n",
    "(x_train, y_train), (x_test, y_test) = fashion_mnist.load_data()"
   ]
  },
  {
   "cell_type": "code",
   "execution_count": 3,
   "metadata": {},
   "outputs": [
    {
     "name": "stdout",
     "output_type": "stream",
     "text": [
      "Train features: (60000, 28, 28)\n",
      "Train Labels:   (60000,)\n",
      "Test Features:  (10000, 28, 28)\n",
      "Test Labels:    (10000,)\n",
      "Dimention:  3\n",
      "Dimention:  1\n",
      "Dimention:  3\n",
      "Dimention:  1\n"
     ]
    }
   ],
   "source": [
    "print(\"Train features:\",x_train.shape)\n",
    "print(\"Train Labels:  \",y_train.shape)\n",
    "print(\"Test Features: \",x_test.shape)\n",
    "print(\"Test Labels:   \",y_test.shape)\n",
    "print(\"Dimention: \",x_train.ndim)\n",
    "print(\"Dimention: \",y_train.ndim)\n",
    "print(\"Dimention: \",x_test.ndim)\n",
    "print(\"Dimention: \",y_test.ndim)"
   ]
  },
  {
   "cell_type": "code",
   "execution_count": 4,
   "metadata": {},
   "outputs": [
    {
     "data": {
      "text/plain": [
       "['0.T-shirt/top',\n",
       " '1.Trouser',\n",
       " '2.Pullover',\n",
       " '3.Dress',\n",
       " '4.Coat',\n",
       " '5.Sandal',\n",
       " '6.Shirt',\n",
       " '7.Sneaker',\n",
       " '8.Bag',\n",
       " '9.Ankle boot']"
      ]
     },
     "metadata": {},
     "output_type": "display_data"
    }
   ],
   "source": [
    "class_names = [\"0.T-shirt/top\",\"1.Trouser\",\"2.Pullover\",\"3.Dress\",\"4.Coat\",\"5.Sandal\",\"6.Shirt\",\"7.Sneaker\",\"8.Bag\",\"9.Ankle boot\"]\n",
    "display(class_names)"
   ]
  },
  {
   "cell_type": "markdown",
   "metadata": {},
   "source": [
    "# Visualizing Data"
   ]
  },
  {
   "cell_type": "code",
   "execution_count": 5,
   "metadata": {},
   "outputs": [
    {
     "data": {
      "image/png": "[encoded data removed]",
      "text/plain": [
       "<Figure size 432x288 with 1 Axes>"
      ]
     },
     "metadata": {
      "needs_background": "light"
     },
     "output_type": "display_data"
    }
   ],
   "source": [
    "pic  = x_test[7]\n",
    "plt.imshow(pic,cmap = plt.cm.binary)\n",
    "plt.show()"
   ]
  },
  {
   "cell_type": "code",
   "execution_count": 6,
   "metadata": {},
   "outputs": [
    {
     "data": {
      "text/plain": [
       "6"
      ]
     },
     "execution_count": 6,
     "metadata": {},
     "output_type": "execute_result"
    }
   ],
   "source": [
    "# Actual Label\n",
    "y_test[7]"
   ]
  },
  {
   "cell_type": "code",
   "execution_count": 7,
   "metadata": {},
   "outputs": [],
   "source": [
    "#x_train[0]"
   ]
  },
  {
   "cell_type": "markdown",
   "metadata": {},
   "source": [
    "# Normalizing Data"
   ]
  },
  {
   "cell_type": "markdown",
   "metadata": {},
   "source": [
    "Changing Dimension from 3 into 2\n",
    "\n",
    "As you can see above there are multiple values between 0 to 255 and 255 is Max value so what we're doing is managing the values between 0 and 1 by dividing the train sets by 255."
   ]
  },
  {
   "cell_type": "code",
   "execution_count": 8,
   "metadata": {},
   "outputs": [],
   "source": [
    "new_x_train = x_train.reshape(60000, 28 * 28)\n",
    "new_x_test = x_test.reshape(10000, 28 * 28)\n",
    "new_x_train, new_x_test = new_x_train/255.0, new_x_test/255.0"
   ]
  },
  {
   "cell_type": "code",
   "execution_count": 9,
   "metadata": {},
   "outputs": [],
   "source": [
    "#new_x_train[1]"
   ]
  },
  {
   "cell_type": "markdown",
   "metadata": {},
   "source": [
    "# One hot encoding"
   ]
  },
  {
   "cell_type": "code",
   "execution_count": 10,
   "metadata": {},
   "outputs": [],
   "source": [
    "from tensorflow.keras.utils import to_categorical\n",
    "\n",
    "y_train = to_categorical(y_train) \n",
    "y_test = to_categorical(y_test)"
   ]
  },
  {
   "cell_type": "code",
   "execution_count": 11,
   "metadata": {},
   "outputs": [
    {
     "data": {
      "text/plain": [
       "array([1., 0., 0., 0., 0., 0., 0., 0., 0., 0.], dtype=float32)"
      ]
     },
     "execution_count": 11,
     "metadata": {},
     "output_type": "execute_result"
    }
   ],
   "source": [
    "y_train[1]"
   ]
  },
  {
   "cell_type": "code",
   "execution_count": 12,
   "metadata": {},
   "outputs": [
    {
     "name": "stdout",
     "output_type": "stream",
     "text": [
      "2\n",
      "2\n",
      "Train features: (60000, 784)\n",
      "Train Labels:   (60000, 10)\n",
      "Test Features:  (10000, 784)\n",
      "Test Labels:    (10000, 10)\n"
     ]
    }
   ],
   "source": [
    "print(new_x_train.ndim)\n",
    "print(new_x_test.ndim)\n",
    "print(\"Train features:\",new_x_train.shape)\n",
    "print(\"Train Labels:  \",y_train.shape)\n",
    "print(\"Test Features: \",new_x_test.shape)\n",
    "print(\"Test Labels:   \",y_test.shape)"
   ]
  },
  {
   "cell_type": "markdown",
   "metadata": {},
   "source": [
    "# First Model"
   ]
  },
  {
   "cell_type": "code",
   "execution_count": 13,
   "metadata": {},
   "outputs": [
    {
     "name": "stdout",
     "output_type": "stream",
     "text": [
      "Train on 48000 samples, validate on 12000 samples\n",
      "Epoch 1/10\n",
      "48000/48000 [==============================] - 9s 186us/sample - loss: 0.5258 - accuracy: 0.8133 - val_loss: 0.4001 - val_accuracy: 0.8581\n",
      "Epoch 2/10\n",
      "48000/48000 [==============================] - 8s 158us/sample - loss: 0.3783 - accuracy: 0.8628 - val_loss: 0.4020 - val_accuracy: 0.8528\n",
      "Epoch 3/10\n",
      "48000/48000 [==============================] - 8s 170us/sample - loss: 0.3393 - accuracy: 0.8748 - val_loss: 0.3761 - val_accuracy: 0.8681\n",
      "Epoch 4/10\n",
      "48000/48000 [==============================] - 8s 170us/sample - loss: 0.3123 - accuracy: 0.8841 - val_loss: 0.3338 - val_accuracy: 0.8797\n",
      "Epoch 5/10\n",
      "48000/48000 [==============================] - 8s 157us/sample - loss: 0.2940 - accuracy: 0.8913 - val_loss: 0.3158 - val_accuracy: 0.8845\n",
      "Epoch 6/10\n",
      "48000/48000 [==============================] - 7s 144us/sample - loss: 0.2768 - accuracy: 0.8963 - val_loss: 0.3226 - val_accuracy: 0.8875\n",
      "Epoch 7/10\n",
      "48000/48000 [==============================] - 7s 146us/sample - loss: 0.2643 - accuracy: 0.9022 - val_loss: 0.3202 - val_accuracy: 0.8861\n",
      "Epoch 8/10\n",
      "48000/48000 [==============================] - 7s 143us/sample - loss: 0.2521 - accuracy: 0.9051 - val_loss: 0.3112 - val_accuracy: 0.8845\n",
      "Epoch 9/10\n",
      "48000/48000 [==============================] - 7s 143us/sample - loss: 0.2422 - accuracy: 0.9091 - val_loss: 0.3091 - val_accuracy: 0.8917\n",
      "Epoch 10/10\n",
      "48000/48000 [==============================] - 7s 145us/sample - loss: 0.2331 - accuracy: 0.9116 - val_loss: 0.3069 - val_accuracy: 0.8903\n"
     ]
    }
   ],
   "source": [
    "models = tf.keras.Sequential\n",
    "layers = tf.keras.layers\n",
    "\n",
    "model = models([layers.Dense(512,activation=\"relu\",input_shape=(28 * 28,)),\n",
    "                layers.Flatten(),\n",
    "                layers.Dense(64,activation=\"relu\"),\n",
    "                layers.Dense(16,activation=\"relu\"),\n",
    "                layers.Dense(10, activation='softmax')])\n",
    "\n",
    "model.compile(optimizer=\"adam\", # adam # rmsprop\n",
    "             loss=\"categorical_crossentropy\",\n",
    "             metrics=[\"accuracy\"])\n",
    "\n",
    "history = model.fit(new_x_train,y_train,epochs=10,validation_split=(0.2))"
   ]
  },
  {
   "cell_type": "markdown",
   "metadata": {},
   "source": [
    "# Evaluation"
   ]
  },
  {
   "cell_type": "code",
   "execution_count": 14,
   "metadata": {},
   "outputs": [
    {
     "name": "stdout",
     "output_type": "stream",
     "text": [
      "10000/1 - 1s - loss: 0.2371 - accuracy: 0.8826\n",
      "\n",
      "Loss:  33.76655689954758 %\n",
      "Accuracy:  88.26000094413757 %\n"
     ]
    }
   ],
   "source": [
    "evaluation = model.evaluate(new_x_test,y_test,verbose=2)\n",
    "print()\n",
    "print(\"Loss: \",evaluation[0]*100,\"%\")\n",
    "print(\"Accuracy: \",evaluation[1]*100,\"%\")"
   ]
  },
  {
   "cell_type": "code",
   "execution_count": 15,
   "metadata": {},
   "outputs": [
    {
     "data": {
      "text/plain": [
       "dict_keys(['loss', 'accuracy', 'val_loss', 'val_accuracy'])"
      ]
     },
     "execution_count": 15,
     "metadata": {},
     "output_type": "execute_result"
    }
   ],
   "source": [
    "history.history.keys()"
   ]
  },
  {
   "cell_type": "markdown",
   "metadata": {},
   "source": [
    "# Plotting the training and validation loss"
   ]
  },
  {
   "cell_type": "code",
   "execution_count": 16,
   "metadata": {},
   "outputs": [
    {
     "data": {
      "image/png": "[encoded data removed]",
      "text/plain": [
       "<Figure size 432x288 with 1 Axes>"
      ]
     },
     "metadata": {
      "needs_background": "light"
     },
     "output_type": "display_data"
    }
   ],
   "source": [
    "loss = history.history['loss']\n",
    "val_loss = history.history['val_loss']\n",
    "\n",
    "epochs = range(1, len(loss) + 1)\n",
    "\n",
    "plt.plot(epochs, loss, 'bo', label='Training loss')\n",
    "plt.plot(epochs, val_loss, 'b', label='Validation loss')\n",
    "plt.title('Training and validation loss')\n",
    "plt.xlabel('Epochs')\n",
    "plt.ylabel('Loss')\n",
    "plt.legend()\n",
    "plt.show()"
   ]
  },
  {
   "cell_type": "markdown",
   "metadata": {},
   "source": [
    "# Plotting the training and validation Accuracy"
   ]
  },
  {
   "cell_type": "code",
   "execution_count": 17,
   "metadata": {},
   "outputs": [
    {
     "data": {
      "image/png": "[encoded data removed]",
      "text/plain": [
       "<Figure size 432x288 with 1 Axes>"
      ]
     },
     "metadata": {
      "needs_background": "light"
     },
     "output_type": "display_data"
    }
   ],
   "source": [
    "acc = history.history['accuracy']\n",
    "val_acc = history.history['val_accuracy']\n",
    "\n",
    "epochs = range(1, len(acc) + 1)\n",
    "\n",
    "plt.plot(epochs, acc, 'bo', label='Training acc')\n",
    "plt.plot(epochs, val_acc, 'b', label='Validation acc')\n",
    "plt.title('Training and validation acc')\n",
    "plt.xlabel('Epochs')\n",
    "plt.ylabel('acc')\n",
    "plt.legend()\n",
    "plt.show()"
   ]
  },
  {
   "cell_type": "markdown",
   "metadata": {},
   "source": [
    "# Predict"
   ]
  },
  {
   "cell_type": "code",
   "execution_count": 18,
   "metadata": {},
   "outputs": [
    {
     "name": "stdout",
     "output_type": "stream",
     "text": [
      "Predicted value:  6\n",
      "Actual value:  6\n"
     ]
    },
    {
     "data": {
      "image/png": "[encoded data removed]",
      "text/plain": [
       "<Figure size 432x288 with 1 Axes>"
      ]
     },
     "metadata": {
      "needs_background": "light"
     },
     "output_type": "display_data"
    },
    {
     "data": {
      "text/plain": [
       "['0.T-shirt/top',\n",
       " '1.Trouser',\n",
       " '2.Pullover',\n",
       " '3.Dress',\n",
       " '4.Coat',\n",
       " '5.Sandal',\n",
       " '6.Shirt',\n",
       " '7.Sneaker',\n",
       " '8.Bag',\n",
       " '9.Ankle boot']"
      ]
     },
     "metadata": {},
     "output_type": "display_data"
    }
   ],
   "source": [
    "predict = 7\n",
    "a = model.predict_classes(new_x_test)[predict]\n",
    "print(\"Predicted value: \",a)\n",
    "print(\"Actual value: \",np.argmax(y_test[predict]))\n",
    "pic  = x_test[predict]\n",
    "plt.imshow(pic,cmap = plt.cm.binary)\n",
    "plt.show()\n",
    "display(class_names)"
   ]
  },
  {
   "cell_type": "markdown",
   "metadata": {},
   "source": [
    "# Hyperperameter Tuning"
   ]
  },
  {
   "cell_type": "code",
   "execution_count": 19,
   "metadata": {},
   "outputs": [],
   "source": [
    "def tunning(epochs,batch_size,drop_ratio):\n",
    "    \n",
    "    models = tf.keras.Sequential\n",
    "    layers = tf.keras.layers\n",
    "\n",
    "    model1 = models([layers.Dense(512,activation=\"relu\",input_shape=(28 * 28,)),\n",
    "                layers.Flatten(),\n",
    "                layers.Dense(64,activation=\"relu\"),\n",
    "                layers.Dropout(drop_ratio),\n",
    "                layers.Dense(16,activation=\"relu\"),\n",
    "                layers.Dense(10, activation='softmax')])\n",
    "\n",
    "    model1.compile(optimizer=\"adam\", # adam # rmsprop\n",
    "             loss=\"categorical_crossentropy\",\n",
    "             metrics=[\"accuracy\"])\n",
    "\n",
    "    history = model1.fit(new_x_train,y_train,epochs=epochs,batch_size = 128,validation_split=(0.2))\n",
    "    \n",
    "    evaluation = model1.evaluate(new_x_test,y_test,verbose=2)\n",
    "    print()\n",
    "    print(\"Loss: \",evaluation[0]*100,\"%\")\n",
    "    print(\"Accuracy: \",evaluation[1]*100,\"%\")\n",
    "    #return model1"
   ]
  },
  {
   "cell_type": "code",
   "execution_count": 22,
   "metadata": {},
   "outputs": [
    {
     "name": "stdout",
     "output_type": "stream",
     "text": [
      "Train on 48000 samples, validate on 12000 samples\n",
      "Epoch 1/10\n",
      "48000/48000 [==============================] - 3s 64us/sample - loss: 0.5672 - accuracy: 0.8019 - val_loss: 0.4445 - val_accuracy: 0.8406\n",
      "Epoch 2/10\n",
      "48000/48000 [==============================] - 2s 45us/sample - loss: 0.3899 - accuracy: 0.8591 - val_loss: 0.3849 - val_accuracy: 0.8627\n",
      "Epoch 3/10\n",
      "48000/48000 [==============================] - 2s 46us/sample - loss: 0.3527 - accuracy: 0.8712 - val_loss: 0.3553 - val_accuracy: 0.8687\n",
      "Epoch 4/10\n",
      "48000/48000 [==============================] - 2s 47us/sample - loss: 0.3171 - accuracy: 0.8846 - val_loss: 0.3393 - val_accuracy: 0.8769\n",
      "Epoch 5/10\n",
      "48000/48000 [==============================] - 2s 47us/sample - loss: 0.2974 - accuracy: 0.8902 - val_loss: 0.3318 - val_accuracy: 0.8786\n",
      "Epoch 6/10\n",
      "48000/48000 [==============================] - 2s 47us/sample - loss: 0.2846 - accuracy: 0.8947 - val_loss: 0.3238 - val_accuracy: 0.8838\n",
      "Epoch 7/10\n",
      "48000/48000 [==============================] - 2s 48us/sample - loss: 0.2707 - accuracy: 0.8987 - val_loss: 0.3261 - val_accuracy: 0.8858\n",
      "Epoch 8/10\n",
      "48000/48000 [==============================] - 2s 46us/sample - loss: 0.2548 - accuracy: 0.9046 - val_loss: 0.3163 - val_accuracy: 0.8863\n",
      "Epoch 9/10\n",
      "48000/48000 [==============================] - 2s 47us/sample - loss: 0.2447 - accuracy: 0.9093 - val_loss: 0.3069 - val_accuracy: 0.8931\n",
      "Epoch 10/10\n",
      "48000/48000 [==============================] - 2s 47us/sample - loss: 0.2362 - accuracy: 0.9123 - val_loss: 0.3424 - val_accuracy: 0.8849\n",
      "10000/1 - 1s - loss: 0.2637 - accuracy: 0.8721\n",
      "\n",
      "Loss:  36.97496145248413 %\n",
      "Accuracy:  87.20999956130981 %\n"
     ]
    }
   ],
   "source": [
    "epochs = 10\n",
    "batch_size = 256\n",
    "drop_ratio = 0.001\n",
    "tunning(epochs,batch_size,drop_ratio)"
   ]
  },
  {
   "cell_type": "code",
   "execution_count": null,
   "metadata": {},
   "outputs": [],
   "source": []
  }
 ],
 "metadata": {
  "kernelspec": {
   "display_name": "gputest",
   "language": "python",
   "name": "gputest"
  },
  "language_info": {
   "codemirror_mode": {
    "name": "ipython",
    "version": 3
   },
   "file_extension": ".py",
   "mimetype": "text/x-python",
   "name": "python",
   "nbconvert_exporter": "python",
   "pygments_lexer": "ipython3",
   "version": "3.7.6"
  }
 },
 "nbformat": 4,
 "nbformat_minor": 2
}
