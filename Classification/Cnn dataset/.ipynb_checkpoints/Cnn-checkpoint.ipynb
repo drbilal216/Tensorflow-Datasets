{
 "cells": [
  {
   "cell_type": "code",
   "execution_count": 1,
   "metadata": {},
   "outputs": [],
   "source": [
    "import numpy as np\n",
    "import pandas as pd\n",
    "import os\n",
    "import tensorflow as tf\n",
    "import matplotlib.pyplot as plt"
   ]
  },
  {
   "cell_type": "code",
   "execution_count": 2,
   "metadata": {},
   "outputs": [
    {
     "data": {
      "text/plain": [
       "['.ipynb_checkpoints', 'Cnn.csv', 'Cnn.ipynb']"
      ]
     },
     "execution_count": 2,
     "metadata": {},
     "output_type": "execute_result"
    }
   ],
   "source": [
    "os.listdir(\".\")"
   ]
  },
  {
   "cell_type": "code",
   "execution_count": 3,
   "metadata": {},
   "outputs": [],
   "source": [
    "bbc_df = pd.read_csv('Cnn.csv')"
   ]
  },
  {
   "cell_type": "code",
   "execution_count": 4,
   "metadata": {},
   "outputs": [
    {
     "data": {
      "text/html": [
       "<div>\n",
       "<style scoped>\n",
       "    .dataframe tbody tr th:only-of-type {\n",
       "        vertical-align: middle;\n",
       "    }\n",
       "\n",
       "    .dataframe tbody tr th {\n",
       "        vertical-align: top;\n",
       "    }\n",
       "\n",
       "    .dataframe thead th {\n",
       "        text-align: right;\n",
       "    }\n",
       "</style>\n",
       "<table border=\"1\" class=\"dataframe\">\n",
       "  <thead>\n",
       "    <tr style=\"text-align: right;\">\n",
       "      <th></th>\n",
       "      <th>category</th>\n",
       "      <th>text</th>\n",
       "    </tr>\n",
       "  </thead>\n",
       "  <tbody>\n",
       "    <tr>\n",
       "      <td>0</td>\n",
       "      <td>tech</td>\n",
       "      <td>tv future in the hands of viewers with home th...</td>\n",
       "    </tr>\n",
       "    <tr>\n",
       "      <td>1</td>\n",
       "      <td>business</td>\n",
       "      <td>worldcom boss  left books alone  former worldc...</td>\n",
       "    </tr>\n",
       "    <tr>\n",
       "      <td>2</td>\n",
       "      <td>sport</td>\n",
       "      <td>tigers wary of farrell  gamble  leicester say ...</td>\n",
       "    </tr>\n",
       "    <tr>\n",
       "      <td>3</td>\n",
       "      <td>sport</td>\n",
       "      <td>yeading face newcastle in fa cup premiership s...</td>\n",
       "    </tr>\n",
       "    <tr>\n",
       "      <td>4</td>\n",
       "      <td>entertainment</td>\n",
       "      <td>ocean s twelve raids box office ocean s twelve...</td>\n",
       "    </tr>\n",
       "  </tbody>\n",
       "</table>\n",
       "</div>"
      ],
      "text/plain": [
       "        category                                               text\n",
       "0           tech  tv future in the hands of viewers with home th...\n",
       "1       business  worldcom boss  left books alone  former worldc...\n",
       "2          sport  tigers wary of farrell  gamble  leicester say ...\n",
       "3          sport  yeading face newcastle in fa cup premiership s...\n",
       "4  entertainment  ocean s twelve raids box office ocean s twelve..."
      ]
     },
     "execution_count": 4,
     "metadata": {},
     "output_type": "execute_result"
    }
   ],
   "source": [
    "bbc_df.head()"
   ]
  },
  {
   "cell_type": "code",
   "execution_count": 5,
   "metadata": {},
   "outputs": [
    {
     "name": "stdout",
     "output_type": "stream",
     "text": [
      "<class 'pandas.core.frame.DataFrame'>\n",
      "RangeIndex: 2225 entries, 0 to 2224\n",
      "Data columns (total 2 columns):\n",
      "category    2225 non-null object\n",
      "text        2225 non-null object\n",
      "dtypes: object(2)\n",
      "memory usage: 34.9+ KB\n"
     ]
    }
   ],
   "source": [
    "bbc_df.info()"
   ]
  },
  {
   "cell_type": "code",
   "execution_count": 6,
   "metadata": {},
   "outputs": [
    {
     "data": {
      "text/plain": [
       "sport            511\n",
       "business         510\n",
       "politics         417\n",
       "tech             401\n",
       "entertainment    386\n",
       "Name: category, dtype: int64"
      ]
     },
     "execution_count": 6,
     "metadata": {},
     "output_type": "execute_result"
    }
   ],
   "source": [
    "bbc_df[\"category\"].value_counts()"
   ]
  },
  {
   "cell_type": "code",
   "execution_count": 7,
   "metadata": {},
   "outputs": [
    {
     "name": "stdout",
     "output_type": "stream",
     "text": [
      "Total length : 2225\n",
      "80 % = 1780\n",
      "20 % = 445\n",
      "Total : 2225\n"
     ]
    }
   ],
   "source": [
    "print(\"Total length :\",len(bbc_df))\n",
    "i = int(len(bbc_df) * .8)\n",
    "print(\"80 % =\",i)\n",
    "print(\"20 % =\",int(len(bbc_df) * .2))\n",
    "print(\"Total :\", 1780 + 445)"
   ]
  },
  {
   "cell_type": "code",
   "execution_count": 8,
   "metadata": {},
   "outputs": [],
   "source": [
    "category = bbc_df[\"category\"]\n",
    "text = bbc_df[\"text\"]"
   ]
  },
  {
   "cell_type": "code",
   "execution_count": 9,
   "metadata": {},
   "outputs": [],
   "source": [
    "train_label = category[:i]\n",
    "test_label = category[i:]\n",
    "train_text = text[:i]\n",
    "test_text = text[i:]"
   ]
  },
  {
   "cell_type": "code",
   "execution_count": 10,
   "metadata": {},
   "outputs": [
    {
     "name": "stdout",
     "output_type": "stream",
     "text": [
      "train_text (1780,)\n",
      "train_label : (1780,)\n",
      "test_text : (445,)\n",
      "test_label : (445,)\n"
     ]
    }
   ],
   "source": [
    "print(\"train_text\",train_text.shape)\n",
    "print(\"train_label :\",train_label.shape)\n",
    "print(\"test_text :\",test_text.shape)\n",
    "print(\"test_label :\",test_label.shape)"
   ]
  },
  {
   "cell_type": "markdown",
   "metadata": {},
   "source": [
    "# Tokenizer"
   ]
  },
  {
   "cell_type": "code",
   "execution_count": 11,
   "metadata": {},
   "outputs": [],
   "source": [
    "max_words = 1000\n",
    "tokenizer = tf.keras.preprocessing.text.Tokenizer(num_words=max_words,char_level=False)\n",
    "tokenizer.fit_on_texts(train_text)\n",
    "x_train = tokenizer.texts_to_matrix(train_text)\n",
    "x_test = tokenizer.texts_to_matrix(test_text)"
   ]
  },
  {
   "cell_type": "code",
   "execution_count": 12,
   "metadata": {},
   "outputs": [
    {
     "data": {
      "text/plain": [
       "array([[0., 1., 1., ..., 0., 0., 0.],\n",
       "       [0., 1., 1., ..., 0., 0., 0.],\n",
       "       [0., 1., 1., ..., 0., 0., 0.],\n",
       "       ...,\n",
       "       [0., 1., 1., ..., 0., 0., 0.],\n",
       "       [0., 1., 1., ..., 0., 0., 0.],\n",
       "       [0., 1., 1., ..., 0., 0., 0.]])"
      ]
     },
     "execution_count": 12,
     "metadata": {},
     "output_type": "execute_result"
    }
   ],
   "source": [
    "x_train"
   ]
  },
  {
   "cell_type": "code",
   "execution_count": 13,
   "metadata": {},
   "outputs": [
    {
     "data": {
      "text/plain": [
       "array([[0., 1., 1., ..., 1., 0., 0.],\n",
       "       [0., 1., 1., ..., 0., 0., 0.],\n",
       "       [0., 1., 1., ..., 0., 0., 0.],\n",
       "       ...,\n",
       "       [0., 1., 1., ..., 0., 0., 0.],\n",
       "       [0., 1., 1., ..., 0., 0., 0.],\n",
       "       [0., 1., 1., ..., 0., 0., 1.]])"
      ]
     },
     "execution_count": 13,
     "metadata": {},
     "output_type": "execute_result"
    }
   ],
   "source": [
    "x_test"
   ]
  },
  {
   "cell_type": "code",
   "execution_count": 14,
   "metadata": {},
   "outputs": [
    {
     "data": {
      "text/plain": [
       "array([0., 1., 1., 1., 1., 1., 1., 1., 1., 1., 1., 1., 1., 1., 0., 1., 1.,\n",
       "       1., 1., 1., 1., 1., 1., 1., 1., 1., 0., 1., 1., 1., 1., 1., 1., 1.,\n",
       "       1., 0., 1., 0., 1., 1., 0., 1., 1., 1., 1., 0., 1., 1., 1., 1., 1.,\n",
       "       1., 1., 0., 1., 1., 1., 1., 1., 0., 0., 1., 1., 0., 0., 0., 1., 1.,\n",
       "       0., 0., 0., 1., 1., 1., 1., 1., 1., 1., 0., 0., 1., 0., 1., 1., 1.,\n",
       "       0., 1., 1., 1., 0., 1., 0., 0., 0., 0., 0., 1., 0., 1., 0., 1., 1.,\n",
       "       1., 0., 0., 0., 0., 1., 0., 0., 1., 1., 0., 0., 1., 0., 1., 0., 1.,\n",
       "       1., 1., 0., 0., 0., 1., 0., 0., 0., 1., 1., 0., 0., 0., 0., 1., 1.,\n",
       "       1., 0., 0., 0., 0., 1., 0., 0., 0., 0., 1., 0., 0., 0., 0., 0., 1.,\n",
       "       0., 0., 0., 1., 0., 0., 0., 0., 0., 0., 0., 1., 0., 0., 0., 0., 0.,\n",
       "       0., 1., 1., 1., 0., 1., 0., 1., 1., 0., 1., 1., 1., 0., 1., 1., 0.,\n",
       "       1., 0., 0., 0., 0., 0., 0., 0., 0., 1., 0., 0., 1., 0., 0., 0., 0.,\n",
       "       0., 0., 0., 0., 1., 0., 1., 1., 0., 0., 1., 1., 0., 0., 0., 0., 0.,\n",
       "       0., 1., 0., 0., 0., 1., 1., 1., 1., 0., 0., 1., 0., 1., 1., 0., 0.,\n",
       "       0., 0., 0., 1., 0., 0., 1., 0., 0., 0., 0., 0., 1., 0., 0., 0., 0.,\n",
       "       0., 0., 0., 1., 0., 0., 0., 0., 0., 0., 0., 0., 0., 0., 0., 0., 0.,\n",
       "       0., 0., 1., 0., 1., 0., 0., 0., 0., 0., 0., 0., 0., 0., 0., 0., 0.,\n",
       "       0., 0., 0., 0., 0., 0., 0., 0., 0., 0., 0., 0., 1., 0., 0., 0., 0.,\n",
       "       0., 0., 0., 0., 0., 0., 0., 0., 0., 0., 0., 0., 0., 0., 0., 0., 0.,\n",
       "       0., 0., 0., 0., 0., 0., 0., 0., 0., 0., 0., 0., 1., 0., 0., 0., 1.,\n",
       "       0., 0., 0., 0., 1., 0., 0., 1., 0., 0., 1., 0., 0., 0., 0., 0., 1.,\n",
       "       1., 0., 0., 0., 0., 0., 0., 0., 0., 0., 0., 0., 0., 0., 0., 1., 0.,\n",
       "       0., 0., 0., 0., 1., 0., 0., 0., 0., 0., 0., 0., 0., 0., 0., 0., 0.,\n",
       "       0., 0., 0., 0., 0., 0., 0., 0., 1., 0., 0., 0., 0., 1., 0., 0., 0.,\n",
       "       0., 0., 0., 0., 0., 0., 0., 0., 0., 0., 0., 0., 0., 0., 0., 0., 0.,\n",
       "       0., 0., 1., 0., 0., 0., 0., 0., 0., 0., 1., 0., 0., 0., 0., 0., 1.,\n",
       "       1., 0., 0., 0., 0., 0., 0., 0., 0., 1., 1., 1., 0., 0., 0., 0., 0.,\n",
       "       0., 0., 0., 0., 1., 0., 0., 0., 0., 0., 0., 0., 0., 0., 0., 0., 0.,\n",
       "       0., 0., 0., 0., 1., 1., 0., 0., 0., 0., 0., 0., 0., 0., 0., 0., 0.,\n",
       "       0., 0., 0., 0., 1., 0., 0., 0., 0., 0., 0., 0., 1., 0., 0., 0., 0.,\n",
       "       1., 0., 0., 0., 0., 0., 0., 0., 0., 0., 0., 0., 0., 0., 0., 0., 0.,\n",
       "       1., 0., 0., 0., 1., 0., 0., 0., 0., 0., 0., 0., 0., 1., 0., 1., 1.,\n",
       "       0., 0., 0., 1., 0., 0., 0., 0., 0., 1., 0., 0., 0., 0., 0., 0., 0.,\n",
       "       0., 0., 0., 1., 1., 0., 0., 0., 0., 0., 0., 0., 0., 0., 0., 0., 0.,\n",
       "       0., 0., 1., 0., 0., 0., 0., 0., 0., 0., 0., 0., 0., 0., 0., 0., 0.,\n",
       "       0., 0., 1., 0., 0., 0., 0., 0., 0., 0., 0., 0., 0., 0., 0., 0., 0.,\n",
       "       0., 0., 0., 0., 0., 0., 0., 0., 0., 0., 0., 0., 0., 0., 0., 1., 0.,\n",
       "       0., 0., 0., 0., 1., 0., 0., 0., 0., 0., 0., 0., 0., 0., 0., 0., 0.,\n",
       "       0., 0., 0., 0., 0., 1., 0., 0., 0., 0., 0., 0., 0., 0., 0., 1., 0.,\n",
       "       0., 0., 0., 0., 0., 0., 0., 0., 0., 0., 0., 0., 0., 0., 0., 0., 0.,\n",
       "       0., 0., 0., 0., 1., 1., 1., 0., 0., 0., 0., 1., 0., 0., 0., 0., 0.,\n",
       "       1., 0., 0., 0., 0., 0., 0., 1., 0., 0., 0., 0., 0., 0., 1., 0., 0.,\n",
       "       0., 0., 0., 0., 0., 0., 0., 0., 0., 0., 0., 0., 0., 0., 0., 0., 0.,\n",
       "       0., 0., 0., 0., 0., 0., 0., 0., 0., 0., 0., 0., 0., 0., 0., 0., 0.,\n",
       "       0., 0., 0., 0., 0., 0., 1., 0., 0., 0., 0., 0., 0., 0., 0., 0., 0.,\n",
       "       1., 1., 0., 0., 0., 0., 0., 0., 0., 0., 0., 0., 0., 0., 0., 0., 0.,\n",
       "       0., 1., 0., 0., 0., 0., 0., 0., 0., 0., 0., 0., 0., 0., 0., 0., 0.,\n",
       "       0., 0., 0., 0., 0., 0., 0., 0., 0., 0., 0., 0., 0., 0., 0., 0., 0.,\n",
       "       0., 0., 0., 0., 0., 0., 0., 0., 0., 0., 0., 0., 0., 0., 1., 0., 0.,\n",
       "       0., 0., 0., 0., 0., 0., 0., 1., 1., 1., 0., 0., 0., 0., 0., 0., 0.,\n",
       "       0., 0., 1., 0., 0., 0., 0., 0., 0., 0., 0., 0., 0., 0., 0., 0., 1.,\n",
       "       1., 1., 0., 0., 0., 0., 0., 0., 0., 0., 1., 1., 0., 0., 0., 0., 0.,\n",
       "       0., 0., 0., 0., 0., 0., 0., 0., 0., 0., 0., 0., 0., 0., 0., 0., 0.,\n",
       "       0., 0., 0., 1., 0., 0., 0., 0., 0., 0., 0., 0., 0., 0., 0., 0., 0.,\n",
       "       0., 0., 0., 0., 0., 0., 0., 0., 0., 0., 0., 0., 0., 0., 0., 0., 0.,\n",
       "       0., 0., 0., 0., 0., 0., 0., 0., 0., 0., 0., 0., 0., 0., 0., 0., 1.,\n",
       "       1., 0., 0., 0., 0., 0., 0., 0., 0., 0., 0., 0., 0., 0., 0., 0., 0.,\n",
       "       0., 0., 0., 0., 0., 0., 0., 0., 0., 0., 0., 0., 0., 0., 0., 0., 0.,\n",
       "       1., 1., 1., 0., 0., 0., 0., 0., 0., 0., 0., 0., 0., 0.])"
      ]
     },
     "execution_count": 14,
     "metadata": {},
     "output_type": "execute_result"
    }
   ],
   "source": [
    "x_train[0]"
   ]
  },
  {
   "cell_type": "code",
   "execution_count": 15,
   "metadata": {},
   "outputs": [
    {
     "name": "stdout",
     "output_type": "stream",
     "text": [
      "(1780, 1000)\n",
      "(445, 1000)\n"
     ]
    }
   ],
   "source": [
    "print(x_train.shape)\n",
    "print(x_test.shape)"
   ]
  },
  {
   "cell_type": "markdown",
   "metadata": {},
   "source": [
    "# Label encoder"
   ]
  },
  {
   "cell_type": "code",
   "execution_count": 16,
   "metadata": {},
   "outputs": [],
   "source": [
    "from sklearn import preprocessing\n",
    "le = preprocessing.LabelEncoder()\n",
    "le.fit_transform(train_label)\n",
    "y_train = le.fit_transform(train_label)\n",
    "y_test = le.fit_transform(test_label)"
   ]
  },
  {
   "cell_type": "code",
   "execution_count": 17,
   "metadata": {},
   "outputs": [
    {
     "name": "stdout",
     "output_type": "stream",
     "text": [
      "x_train : (1780, 1000)\n",
      "x_test : (445, 1000)\n",
      "y_train (1780,)\n",
      "y_test : (445,)\n"
     ]
    }
   ],
   "source": [
    "print(\"x_train :\",x_train.shape)\n",
    "print(\"x_test :\",x_test.shape)\n",
    "print(\"y_train\",y_train.shape)\n",
    "print(\"y_test :\",y_test.shape)"
   ]
  },
  {
   "cell_type": "code",
   "execution_count": 18,
   "metadata": {},
   "outputs": [
    {
     "name": "stdout",
     "output_type": "stream",
     "text": [
      "[1 4 2 3 3 4 0 4 1 1 2 2 0 1 3 1 1 0 3 2 4 0 3 1 4 2 2 3 3 0 0 0 0 0 1 0 2\n",
      " 2 4 4 1 2 1 0 2 3 3 0 4 0 4 3 0 0 2 3 3 2 2 1 1 2 0 2 2 0 4 2 2 2 2 2 1 1\n",
      " 4 2 3 2 3 4 3 3 3 1 4 1 4 3 4 3 3 1 1 0 1 1 2 0 3 4 4 2 0 3 0 1 3 2 1 3 3\n",
      " 0 2 4 4 0 0 3 2 1 3 3 2 1 4 3 1 0 2 3 2 4 1 3 2 0 1 2 1 2 3 2 0 0 2 0 4 3\n",
      " 0 1 0 3 3 1 4 2 4 2 2 3 3 3 0 4 1 0 3 0 3 0 4 0 0 0 0 3 3 3 0 0 1 0 0 0 3\n",
      " 3 3 4 0 3 3 3 0 1 4 4 4 2 0 0 4 0 4 3 3 2 2 2 3 3 2 2 4 0 3 3 3 3 0 3 0 0\n",
      " 0 0 3 2 3 4 4 3 4 0 1 0 3 0 4 4 2 1 0 1 0 4 2 1 2 1 1 4 0 4 4 0 2 3 1 0 2\n",
      " 1 0 4 3 4 2 3 2 0 2 2 0 0 0 4 2 0 2 0 1 2 3 2 2 3 1 4 4 0 4 3 0 0 2 3 4 4\n",
      " 4 3 1 3 2 0 2 2 1 4 0 4 3 1 1 3 0 1 4 4 3 1 0 2 2 2 4 4 0 2 0 2 2 1 3 4 0\n",
      " 4 1 4 4 3 2 3 3 2 1 1 0 2 2 3 0 0 4 0 4 4 3 0 2 3 0 0 3 4 3 4 1 3 3 1 0 4\n",
      " 3 3 2 4 0 2 3 3 2 1 4 4 4 0 3 1 1 4 0 2 4 3 3 4 4 2 0 3 1 1 3 1 4 4 0 0 0\n",
      " 3 3 4 3 0 4 0 0 3 0 2 0 0 4 0 4 2 4 1 2 4 1 3 2 1 0 4 0 4 1 4 3 0 0 2 1 2\n",
      " 3]\n",
      "\n",
      "['entertainment' 'tech' 'politics' 'sport' 'sport' 'tech' 'business'\n",
      " 'tech' 'entertainment' 'entertainment' 'politics' 'politics' 'business'\n",
      " 'entertainment' 'sport' 'entertainment' 'entertainment' 'business'\n",
      " 'sport' 'politics' 'tech' 'business' 'sport' 'entertainment' 'tech'\n",
      " 'politics' 'politics' 'sport' 'sport' 'business' 'business' 'business'\n",
      " 'business' 'business' 'entertainment' 'business' 'politics' 'politics'\n",
      " 'tech' 'tech' 'entertainment' 'politics' 'entertainment' 'business'\n",
      " 'politics' 'sport' 'sport' 'business' 'tech' 'business' 'tech' 'sport'\n",
      " 'business' 'business' 'politics' 'sport' 'sport' 'politics' 'politics'\n",
      " 'entertainment' 'entertainment' 'politics' 'business' 'politics'\n",
      " 'politics' 'business' 'tech' 'politics' 'politics' 'politics' 'politics'\n",
      " 'politics' 'entertainment' 'entertainment' 'tech' 'politics' 'sport'\n",
      " 'politics' 'sport' 'tech' 'sport' 'sport' 'sport' 'entertainment' 'tech'\n",
      " 'entertainment' 'tech' 'sport' 'tech' 'sport' 'sport' 'entertainment'\n",
      " 'entertainment' 'business' 'entertainment' 'entertainment' 'politics'\n",
      " 'business' 'sport' 'tech' 'tech' 'politics' 'business' 'sport' 'business'\n",
      " 'entertainment' 'sport' 'politics' 'entertainment' 'sport' 'sport'\n",
      " 'business' 'politics' 'tech' 'tech' 'business' 'business' 'sport'\n",
      " 'politics' 'entertainment' 'sport' 'sport' 'politics' 'entertainment'\n",
      " 'tech' 'sport' 'entertainment' 'business' 'politics' 'sport' 'politics'\n",
      " 'tech' 'entertainment' 'sport' 'politics' 'business' 'entertainment'\n",
      " 'politics' 'entertainment' 'politics' 'sport' 'politics' 'business'\n",
      " 'business' 'politics' 'business' 'tech' 'sport' 'business'\n",
      " 'entertainment' 'business' 'sport' 'sport' 'entertainment' 'tech'\n",
      " 'politics' 'tech' 'politics' 'politics' 'sport' 'sport' 'sport'\n",
      " 'business' 'tech' 'entertainment' 'business' 'sport' 'business' 'sport'\n",
      " 'business' 'tech' 'business' 'business' 'business' 'business' 'sport'\n",
      " 'sport' 'sport' 'business' 'business' 'entertainment' 'business'\n",
      " 'business' 'business' 'sport' 'sport' 'sport' 'tech' 'business' 'sport'\n",
      " 'sport' 'sport' 'business' 'entertainment' 'tech' 'tech' 'tech'\n",
      " 'politics' 'business' 'business' 'tech' 'business' 'tech' 'sport' 'sport'\n",
      " 'politics' 'politics' 'politics' 'sport' 'sport' 'politics' 'politics'\n",
      " 'tech' 'business' 'sport' 'sport' 'sport' 'sport' 'business' 'sport'\n",
      " 'business' 'business' 'business' 'business' 'sport' 'politics' 'sport'\n",
      " 'tech' 'tech' 'sport' 'tech' 'business' 'entertainment' 'business'\n",
      " 'sport' 'business' 'tech' 'tech' 'politics' 'entertainment' 'business'\n",
      " 'entertainment' 'business' 'tech' 'politics' 'entertainment' 'politics'\n",
      " 'entertainment' 'entertainment' 'tech' 'business' 'tech' 'tech'\n",
      " 'business' 'politics' 'sport' 'entertainment' 'business' 'politics'\n",
      " 'entertainment' 'business' 'tech' 'sport' 'tech' 'politics' 'sport'\n",
      " 'politics' 'business' 'politics' 'politics' 'business' 'business'\n",
      " 'business' 'tech' 'politics' 'business' 'politics' 'business'\n",
      " 'entertainment' 'politics' 'sport' 'politics' 'politics' 'sport'\n",
      " 'entertainment' 'tech' 'tech' 'business' 'tech' 'sport' 'business'\n",
      " 'business' 'politics' 'sport' 'tech' 'tech' 'tech' 'sport'\n",
      " 'entertainment' 'sport' 'politics' 'business' 'politics' 'politics'\n",
      " 'entertainment' 'tech' 'business' 'tech' 'sport' 'entertainment'\n",
      " 'entertainment' 'sport' 'business' 'entertainment' 'tech' 'tech' 'sport'\n",
      " 'entertainment' 'business' 'politics' 'politics' 'politics' 'tech' 'tech'\n",
      " 'business' 'politics' 'business' 'politics' 'politics' 'entertainment'\n",
      " 'sport' 'tech' 'business' 'tech' 'entertainment' 'tech' 'tech' 'sport'\n",
      " 'politics' 'sport' 'sport' 'politics' 'entertainment' 'entertainment'\n",
      " 'business' 'politics' 'politics' 'sport' 'business' 'business' 'tech'\n",
      " 'business' 'tech' 'tech' 'sport' 'business' 'politics' 'sport' 'business'\n",
      " 'business' 'sport' 'tech' 'sport' 'tech' 'entertainment' 'sport' 'sport'\n",
      " 'entertainment' 'business' 'tech' 'sport' 'sport' 'politics' 'tech'\n",
      " 'business' 'politics' 'sport' 'sport' 'politics' 'entertainment' 'tech'\n",
      " 'tech' 'tech' 'business' 'sport' 'entertainment' 'entertainment' 'tech'\n",
      " 'business' 'politics' 'tech' 'sport' 'sport' 'tech' 'tech' 'politics'\n",
      " 'business' 'sport' 'entertainment' 'entertainment' 'sport'\n",
      " 'entertainment' 'tech' 'tech' 'business' 'business' 'business' 'sport'\n",
      " 'sport' 'tech' 'sport' 'business' 'tech' 'business' 'business' 'sport'\n",
      " 'business' 'politics' 'business' 'business' 'tech' 'business' 'tech'\n",
      " 'politics' 'tech' 'entertainment' 'politics' 'tech' 'entertainment'\n",
      " 'sport' 'politics' 'entertainment' 'business' 'tech' 'business' 'tech'\n",
      " 'entertainment' 'tech' 'sport' 'business' 'business' 'politics'\n",
      " 'entertainment' 'politics' 'sport']\n"
     ]
    }
   ],
   "source": [
    "print(y_test)\n",
    "print()\n",
    "print(le.inverse_transform(y_test))"
   ]
  },
  {
   "cell_type": "code",
   "execution_count": 19,
   "metadata": {},
   "outputs": [
    {
     "name": "stdout",
     "output_type": "stream",
     "text": [
      "5\n",
      "1000\n"
     ]
    }
   ],
   "source": [
    "num_classes = np.max(y_train) + 1\n",
    "print(num_classes)\n",
    "print(max_words)"
   ]
  },
  {
   "cell_type": "code",
   "execution_count": 20,
   "metadata": {},
   "outputs": [],
   "source": [
    "# one hot encoding\n",
    "y_train = tf.keras.utils.to_categorical(y_train)\n",
    "y_test = tf.keras.utils.to_categorical(y_test)"
   ]
  },
  {
   "cell_type": "code",
   "execution_count": 21,
   "metadata": {},
   "outputs": [
    {
     "name": "stdout",
     "output_type": "stream",
     "text": [
      "x_train : (1780, 1000)\n",
      "x_test : (445, 1000)\n",
      "y_train (1780, 5)\n",
      "y_test : (445, 5)\n"
     ]
    }
   ],
   "source": [
    "print(\"x_train :\",x_train.shape)\n",
    "print(\"x_test :\",x_test.shape)\n",
    "print(\"y_train\",y_train.shape)\n",
    "print(\"y_test :\",y_test.shape)"
   ]
  },
  {
   "cell_type": "code",
   "execution_count": 22,
   "metadata": {},
   "outputs": [],
   "source": [
    "##################################################"
   ]
  },
  {
   "cell_type": "code",
   "execution_count": 23,
   "metadata": {},
   "outputs": [
    {
     "name": "stdout",
     "output_type": "stream",
     "text": [
      "Train on 1602 samples, validate on 178 samples\n",
      "Epoch 1/4\n",
      "1602/1602 - 2s - loss: 0.5247 - accuracy: 0.8358 - val_loss: 0.2129 - val_accuracy: 0.9382\n",
      "Epoch 2/4\n",
      "1602/1602 - 0s - loss: 0.0485 - accuracy: 0.9869 - val_loss: 0.1572 - val_accuracy: 0.9438\n",
      "Epoch 3/4\n",
      "1602/1602 - 0s - loss: 0.0159 - accuracy: 0.9969 - val_loss: 0.2151 - val_accuracy: 0.9270\n",
      "Epoch 4/4\n",
      "1602/1602 - 0s - loss: 0.0056 - accuracy: 0.9994 - val_loss: 0.2317 - val_accuracy: 0.9326\n",
      "445/1 - 0s - loss: 0.2067 - accuracy: 0.9506\n"
     ]
    },
    {
     "data": {
      "image/png": "[encoded data removed]",
      "text/plain": [
       "<Figure size 432x288 with 1 Axes>"
      ]
     },
     "metadata": {
      "needs_background": "light"
     },
     "output_type": "display_data"
    },
    {
     "data": {
      "image/png": "[encoded data removed]",
      "text/plain": [
       "<Figure size 432x288 with 1 Axes>"
      ]
     },
     "metadata": {
      "needs_background": "light"
     },
     "output_type": "display_data"
    },
    {
     "name": "stdout",
     "output_type": "stream",
     "text": [
      "Test loss : 19.285525522205266 %\n",
      "Test accuracy : 95.05618214607239 %\n"
     ]
    }
   ],
   "source": [
    "model = tf.keras.models.Sequential([\n",
    "  tf.keras.layers.Dense(512, input_shape=(max_words,)),\n",
    "  tf.keras.layers.Dense(212, activation=\"relu\"),\n",
    "  tf.keras.layers.Activation(\"relu\"),\n",
    "  tf.keras.layers.Dense(num_classes),    \n",
    "  tf.keras.layers.Dense(5, activation='softmax')\n",
    "  ])\n",
    "\n",
    "model.compile(optimizer='adam',\n",
    "              loss='categorical_crossentropy',\n",
    "              metrics=['accuracy'])\n",
    "\n",
    "batch_size = 32\n",
    "epochs = 4\n",
    "drop_ratio = 0.5\n",
    "\n",
    "history = model.fit(x_train, y_train,batch_size=batch_size,epochs=epochs,verbose=2,validation_split=0.1)\n",
    "evaluation = model.evaluate(x_test,  y_test, verbose=2)\n",
    "\n",
    "loss = history.history['loss']\n",
    "val_loss = history.history['val_loss']\n",
    "\n",
    "epochs = range(1, len(loss) + 1)\n",
    "\n",
    "plt.plot(epochs, loss, 'bo', label='Training loss')\n",
    "plt.plot(epochs, val_loss, 'b', label='Validation loss')\n",
    "plt.title('Training and validation loss')\n",
    "plt.xlabel('Epochs')\n",
    "plt.ylabel('Loss')\n",
    "plt.legend()\n",
    "plt.show()\n",
    "\n",
    "acc = history.history['accuracy']\n",
    "val_acc = history.history['val_accuracy']\n",
    "\n",
    "epochs = range(1, len(acc) + 1)\n",
    "\n",
    "plt.plot(epochs, acc, 'bo', label='Training acc')\n",
    "plt.plot(epochs, val_acc, 'b', label='Validation acc')\n",
    "plt.title('Training and validation acc')\n",
    "plt.xlabel('Epochs')\n",
    "plt.ylabel('acc')\n",
    "plt.legend()\n",
    "plt.show()\n",
    "\n",
    "print(\"Test loss :\",evaluation[0]*100,\"%\")\n",
    "print(\"Test accuracy :\",evaluation[1]*100,\"%\")"
   ]
  },
  {
   "cell_type": "markdown",
   "metadata": {},
   "source": [
    "# hyperprameter tunning"
   ]
  },
  {
   "cell_type": "code",
   "execution_count": 24,
   "metadata": {},
   "outputs": [],
   "source": [
    "#by using hyperprameter tunning\n",
    "\n",
    "\n",
    "def run_experiment(batch_size, epochs, drop_ratio):\n",
    "    print('batch size: {}, epochs: {}, drop_ratio: {}'.format(batch_size, epochs, drop_ratio))\n",
    "    \n",
    "    model = tf.keras.models.Sequential([\n",
    "    tf.keras.layers.Dense(512, input_shape=(max_words,)),\n",
    "    tf.keras.layers.Activation(\"relu\"),\n",
    "    tf.keras.layers.Dropout(drop_ratio),\n",
    "    tf.keras.layers.Dense(num_classes),\n",
    "    #tf.keras.layers.Activation(softmax,),\n",
    "    tf.keras.layers.Dense(5, activation='softmax')\n",
    "    ])\n",
    "    \n",
    "    model.compile(loss='categorical_crossentropy', optimizer='adam', metrics=['accuracy'])\n",
    "    \n",
    "    history = model.fit(x_train, y_train,batch_size=batch_size,epochs=epochs,verbose=2,validation_split=0.1)\n",
    "    \n",
    "    score = model.evaluate(x_test, y_test,batch_size=batch_size, verbose=2)\n",
    "    print()\n",
    "    print('\\tTest loss:', score[0]*100,\"%\")\n",
    "    print('\\tTest accuracy:', score[1]*100,\"%\")\n",
    "    \n",
    "    loss = history.history['loss']\n",
    "    val_loss = history.history['val_loss']\n",
    "\n",
    "    epochs = range(1, len(loss) + 1)\n",
    "\n",
    "    plt.plot(epochs, loss, 'bo', label='Training loss')\n",
    "    plt.plot(epochs, val_loss, 'b', label='Validation loss')\n",
    "    plt.title('Training and validation loss')\n",
    "    plt.xlabel('Epochs')\n",
    "    plt.ylabel('Loss')\n",
    "    plt.legend()\n",
    "    plt.show()\n",
    "\n",
    "    acc = history.history['accuracy']\n",
    "    val_acc = history.history['val_accuracy']\n",
    "\n",
    "    epochs = range(1, len(acc) + 1)\n",
    "\n",
    "    plt.plot(epochs, acc, 'bo', label='Training acc')\n",
    "    plt.plot(epochs, val_acc, 'b', label='Validation acc')\n",
    "    plt.title('Training and validation acc')\n",
    "    plt.xlabel('Epochs')\n",
    "    plt.ylabel('acc')\n",
    "    plt.legend()\n",
    "    plt.show()\n",
    "\n",
    "    print(\"Test loss :\",evaluation[0]*100,\"%\")\n",
    "    print(\"Test accuracy :\",evaluation[1]*100,\"%\")"
   ]
  },
  {
   "cell_type": "code",
   "execution_count": 25,
   "metadata": {},
   "outputs": [
    {
     "name": "stdout",
     "output_type": "stream",
     "text": [
      "batch size: 16, epochs: 5, drop_ratio: 0.4\n",
      "Train on 1602 samples, validate on 178 samples\n",
      "Epoch 1/5\n",
      "1602/1602 - 1s - loss: 0.5974 - accuracy: 0.7828 - val_loss: 0.2866 - val_accuracy: 0.9326\n",
      "Epoch 2/5\n",
      "1602/1602 - 0s - loss: 0.1169 - accuracy: 0.9738 - val_loss: 0.1761 - val_accuracy: 0.9551\n",
      "Epoch 3/5\n",
      "1602/1602 - 0s - loss: 0.0363 - accuracy: 0.9963 - val_loss: 0.1506 - val_accuracy: 0.9607\n",
      "Epoch 4/5\n",
      "1602/1602 - 0s - loss: 0.0181 - accuracy: 0.9981 - val_loss: 0.1573 - val_accuracy: 0.9607\n",
      "Epoch 5/5\n",
      "1602/1602 - 0s - loss: 0.0073 - accuracy: 1.0000 - val_loss: 0.1341 - val_accuracy: 0.9663\n",
      "445/1 - 0s - loss: 0.3617 - accuracy: 0.9506\n",
      "\n",
      "\tTest loss: 15.887151969952528 %\n",
      "\tTest accuracy: 95.05618214607239 %\n"
     ]
    },
    {
     "data": {
      "image/png": "[encoded data removed]",
      "text/plain": [
       "<Figure size 432x288 with 1 Axes>"
      ]
     },
     "metadata": {
      "needs_background": "light"
     },
     "output_type": "display_data"
    },
    {
     "data": {
      "image/png": "[encoded data removed]",
      "text/plain": [
       "<Figure size 432x288 with 1 Axes>"
      ]
     },
     "metadata": {
      "needs_background": "light"
     },
     "output_type": "display_data"
    },
    {
     "name": "stdout",
     "output_type": "stream",
     "text": [
      "Test loss : 19.285525522205266 %\n",
      "Test accuracy : 95.05618214607239 %\n"
     ]
    }
   ],
   "source": [
    "batch_size = 16\n",
    "epochs = 5\n",
    "drop_ratio = 0.4\n",
    "run_experiment(batch_size, epochs, drop_ratio)"
   ]
  },
  {
   "cell_type": "markdown",
   "metadata": {},
   "source": [
    "# Prediction"
   ]
  },
  {
   "cell_type": "code",
   "execution_count": 26,
   "metadata": {},
   "outputs": [
    {
     "data": {
      "text/plain": [
       "array(['business', 'entertainment', 'politics', 'sport', 'tech'],\n",
       "      dtype=object)"
      ]
     },
     "execution_count": 26,
     "metadata": {},
     "output_type": "execute_result"
    }
   ],
   "source": [
    "text_labels = le.classes_\n",
    "text_labels"
   ]
  },
  {
   "cell_type": "code",
   "execution_count": 27,
   "metadata": {},
   "outputs": [
    {
     "data": {
      "text/plain": [
       "array([5.4630873e-05, 9.9978787e-01, 1.4776997e-05, 1.5642876e-05,\n",
       "       1.2709669e-04], dtype=float32)"
      ]
     },
     "execution_count": 27,
     "metadata": {},
     "output_type": "execute_result"
    }
   ],
   "source": [
    "#model.predict?\n",
    "#It predicts the probablity according to classes i.e business, entertainment etc ...\n",
    "prediction = model.predict(x_test)[0]\n",
    "prediction"
   ]
  },
  {
   "cell_type": "code",
   "execution_count": 28,
   "metadata": {},
   "outputs": [
    {
     "data": {
      "text/plain": [
       "'entertainment'"
      ]
     },
     "execution_count": 28,
     "metadata": {},
     "output_type": "execute_result"
    }
   ],
   "source": [
    "predicted_label = text_labels[np.argmax(prediction)]\n",
    "predicted_label\n",
    "#le.classes_[np.argmax(model.predict(x_test)[0])]"
   ]
  },
  {
   "cell_type": "code",
   "execution_count": 29,
   "metadata": {},
   "outputs": [
    {
     "data": {
      "text/plain": [
       "'entertainment'"
      ]
     },
     "execution_count": 29,
     "metadata": {},
     "output_type": "execute_result"
    }
   ],
   "source": [
    "# actual label\n",
    "test_label.iloc[0]"
   ]
  },
  {
   "cell_type": "code",
   "execution_count": 30,
   "metadata": {},
   "outputs": [
    {
     "data": {
      "text/plain": [
       "'hobbit picture  four years away  lord of the rings'"
      ]
     },
     "execution_count": 30,
     "metadata": {},
     "output_type": "execute_result"
    }
   ],
   "source": [
    "# actual text\n",
    "test_text.iloc[0][:50]"
   ]
  },
  {
   "cell_type": "code",
   "execution_count": 31,
   "metadata": {},
   "outputs": [],
   "source": [
    "#########################################################"
   ]
  },
  {
   "cell_type": "code",
   "execution_count": 32,
   "metadata": {},
   "outputs": [
    {
     "name": "stdout",
     "output_type": "stream",
     "text": [
      "Class : 0\n",
      "hobbit picture  four years away  lord of the rings\n",
      "Actual label : entertainment\n",
      "Predicted label : entertainment\n",
      "\n",
      "Class : 1\n",
      "game firm holds  cast  auditions video game firm b\n",
      "Actual label : tech\n",
      "Predicted label : tech\n",
      "\n",
      "Class : 2\n",
      "clarke plans migrant point scheme anyone planning \n",
      "Actual label : politics\n",
      "Predicted label : politics\n",
      "\n",
      "Class : 3\n",
      "radcliffe will compete in london paula radcliffe w\n",
      "Actual label : sport\n",
      "Predicted label : sport\n",
      "\n",
      "Class : 4\n",
      "serena becomes world number two serena williams ha\n",
      "Actual label : sport\n",
      "Predicted label : sport\n",
      "\n",
      "Class : 5\n",
      "ultimate game  award for doom 3 sci-fi shooter doo\n",
      "Actual label : tech\n",
      "Predicted label : tech\n",
      "\n",
      "Class : 6\n",
      "algeria hit by further gas riots algeria suffered \n",
      "Actual label : business\n",
      "Predicted label : business\n",
      "\n",
      "Class : 7\n",
      "fast lifts rise into record books two high-speed l\n",
      "Actual label : tech\n",
      "Predicted label : tech\n",
      "\n",
      "Class : 8\n",
      "muslim group attacks tv drama 24 a british muslim \n",
      "Actual label : entertainment\n",
      "Predicted label : entertainment\n",
      "\n",
      "Class : 9\n",
      "us tv special for tsunami relief a us television n\n",
      "Actual label : entertainment\n",
      "Predicted label : entertainment\n",
      "\n"
     ]
    }
   ],
   "source": [
    "# Predicting first 10 classes \n",
    "\n",
    "text_labels = le.classes_\n",
    "\n",
    "for i in range(10):\n",
    "    print(\"Class :\",i)\n",
    "    prediction = prediction = model.predict(x_test)[i]\n",
    "    predicted_label = text_labels[np.argmax(prediction)]\n",
    "    print(test_text.iloc[i][:50])\n",
    "    print('Actual label : ' + test_label.iloc[i])\n",
    "    print(\"Predicted label : \" + predicted_label)\n",
    "    print()"
   ]
  },
  {
   "cell_type": "code",
   "execution_count": null,
   "metadata": {},
   "outputs": [],
   "source": []
  }
 ],
 "metadata": {
  "kernelspec": {
   "display_name": "Python 3",
   "language": "python",
   "name": "python3"
  },
  "language_info": {
   "codemirror_mode": {
    "name": "ipython",
    "version": 3
   },
   "file_extension": ".py",
   "mimetype": "text/x-python",
   "name": "python",
   "nbconvert_exporter": "python",
   "pygments_lexer": "ipython3",
   "version": "3.7.4"
  }
 },
 "nbformat": 4,
 "nbformat_minor": 2
}
