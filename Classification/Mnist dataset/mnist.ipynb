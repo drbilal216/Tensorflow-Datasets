{
 "cells": [
  {
   "cell_type": "markdown",
   "metadata": {},
   "source": [
    "# Mnist Dataset"
   ]
  },
  {
   "cell_type": "markdown",
   "metadata": {},
   "source": [
    "The dataset contain gray-scale images of hand-drawn digits, from zero through nine.\n",
    "\n",
    "Each image is 28 pixels in height and 28 pixels in width, for a total of 784 pixels in total. Each pixel has a single pixel-value associated with it, indicating the lightness or darkness of that pixel, with higher numbers meaning darker. This pixel-value is an integer between 0 and 255, inclusive."
   ]
  },
  {
   "cell_type": "markdown",
   "metadata": {},
   "source": [
    "# Importing Libraries"
   ]
  },
  {
   "cell_type": "code",
   "execution_count": 1,
   "metadata": {},
   "outputs": [],
   "source": [
    "import numpy as np\n",
    "import pandas as pd\n",
    "import tensorflow as tf\n",
    "import matplotlib.pyplot as plt"
   ]
  },
  {
   "cell_type": "markdown",
   "metadata": {},
   "source": [
    "# Loading Mnist dataset from the Internet"
   ]
  },
  {
   "cell_type": "code",
   "execution_count": 2,
   "metadata": {},
   "outputs": [],
   "source": [
    "from tensorflow.keras.datasets import mnist\n",
    "(x_train, y_train), (x_test, y_test) = mnist.load_data()"
   ]
  },
  {
   "cell_type": "code",
   "execution_count": 3,
   "metadata": {},
   "outputs": [
    {
     "name": "stdout",
     "output_type": "stream",
     "text": [
      "Train features: (60000, 28, 28)\n",
      "Train Labels:   (60000,)\n",
      "Test Features:  (10000, 28, 28)\n",
      "Test Labels:    (10000,)\n",
      "Dimention:  3\n",
      "Dimention:  1\n",
      "Dimention:  3\n",
      "Dimention:  1\n"
     ]
    }
   ],
   "source": [
    "print(\"Train features:\",x_train.shape)\n",
    "print(\"Train Labels:  \",y_train.shape)\n",
    "print(\"Test Features: \",x_test.shape)\n",
    "print(\"Test Labels:   \",y_test.shape)\n",
    "print(\"Dimention: \",x_train.ndim)\n",
    "print(\"Dimention: \",y_train.ndim)\n",
    "print(\"Dimention: \",x_test.ndim)\n",
    "print(\"Dimention: \",y_test.ndim)"
   ]
  },
  {
   "cell_type": "markdown",
   "metadata": {},
   "source": [
    "# Visualizing Data"
   ]
  },
  {
   "cell_type": "code",
   "execution_count": 4,
   "metadata": {},
   "outputs": [
    {
     "data": {
      "image/png": "[encoded data removed]",
      "text/plain": [
       "<Figure size 432x288 with 1 Axes>"
      ]
     },
     "metadata": {
      "needs_background": "light"
     },
     "output_type": "display_data"
    }
   ],
   "source": [
    "import matplotlib.pyplot as plt\n",
    "digit  = x_test[7]\n",
    "plt.imshow(digit,cmap = plt.cm.binary)\n",
    "plt.show()"
   ]
  },
  {
   "cell_type": "markdown",
   "metadata": {},
   "source": [
    "# Actual Label"
   ]
  },
  {
   "cell_type": "code",
   "execution_count": 5,
   "metadata": {},
   "outputs": [
    {
     "data": {
      "text/plain": [
       "9"
      ]
     },
     "execution_count": 5,
     "metadata": {},
     "output_type": "execute_result"
    }
   ],
   "source": [
    "y_test[7]"
   ]
  },
  {
   "cell_type": "code",
   "execution_count": 6,
   "metadata": {},
   "outputs": [],
   "source": [
    "#x_train[1]"
   ]
  },
  {
   "cell_type": "markdown",
   "metadata": {},
   "source": [
    "# Normalizing Data"
   ]
  },
  {
   "cell_type": "markdown",
   "metadata": {},
   "source": [
    "Changing Dimension from 3 into 2\n",
    "\n",
    "As you can see above there are multiple values between 0 to 255 and 255 is Max value so what we're doing is managing the values between 0 and 1 by dividing the train sets by 255."
   ]
  },
  {
   "cell_type": "code",
   "execution_count": 7,
   "metadata": {},
   "outputs": [],
   "source": [
    "new_x_train = x_train.reshape(60000, 28 * 28)\n",
    "new_x_test = x_test.reshape(10000, 28 * 28)\n",
    "new_x_train, new_x_test = new_x_train/255.0, new_x_test/255.0"
   ]
  },
  {
   "cell_type": "code",
   "execution_count": 8,
   "metadata": {},
   "outputs": [],
   "source": [
    "#x_train[1]"
   ]
  },
  {
   "cell_type": "markdown",
   "metadata": {},
   "source": [
    "# One hot encoding"
   ]
  },
  {
   "cell_type": "code",
   "execution_count": 9,
   "metadata": {},
   "outputs": [],
   "source": [
    "from tensorflow.keras.utils import to_categorical\n",
    "\n",
    "y_train = to_categorical(y_train) \n",
    "y_test = to_categorical(y_test)"
   ]
  },
  {
   "cell_type": "code",
   "execution_count": 10,
   "metadata": {},
   "outputs": [
    {
     "name": "stdout",
     "output_type": "stream",
     "text": [
      "2\n",
      "2\n",
      "Train features: (60000, 784)\n",
      "Train Labels:   (60000, 10)\n",
      "Test Features:  (10000, 784)\n",
      "Test Labels:    (10000, 10)\n"
     ]
    }
   ],
   "source": [
    "print(new_x_train.ndim)\n",
    "print(new_x_test.ndim)\n",
    "print(\"Train features:\",new_x_train.shape)\n",
    "print(\"Train Labels:  \",y_train.shape)\n",
    "print(\"Test Features: \",new_x_test.shape)\n",
    "print(\"Test Labels:   \",y_test.shape)"
   ]
  },
  {
   "cell_type": "markdown",
   "metadata": {},
   "source": [
    "# First Model"
   ]
  },
  {
   "cell_type": "code",
   "execution_count": 11,
   "metadata": {},
   "outputs": [
    {
     "name": "stdout",
     "output_type": "stream",
     "text": [
      "Train on 48000 samples, validate on 12000 samples\n",
      "Epoch 1/10\n",
      "48000/48000 [==============================] - 8s 170us/sample - loss: 0.2526 - accuracy: 0.9241 - val_loss: 0.1223 - val_accuracy: 0.9641\n",
      "Epoch 2/10\n",
      "48000/48000 [==============================] - 7s 148us/sample - loss: 0.0970 - accuracy: 0.9705 - val_loss: 0.1124 - val_accuracy: 0.9677\n",
      "Epoch 3/10\n",
      "48000/48000 [==============================] - 7s 146us/sample - loss: 0.0659 - accuracy: 0.9801 - val_loss: 0.1058 - val_accuracy: 0.9702\n",
      "Epoch 4/10\n",
      "48000/48000 [==============================] - 7s 149us/sample - loss: 0.0522 - accuracy: 0.9828 - val_loss: 0.1116 - val_accuracy: 0.9701\n",
      "Epoch 5/10\n",
      "48000/48000 [==============================] - 7s 150us/sample - loss: 0.0399 - accuracy: 0.9877 - val_loss: 0.1005 - val_accuracy: 0.9732\n",
      "Epoch 6/10\n",
      "48000/48000 [==============================] - 8s 159us/sample - loss: 0.0325 - accuracy: 0.9897 - val_loss: 0.1252 - val_accuracy: 0.9692\n",
      "Epoch 7/10\n",
      "48000/48000 [==============================] - 7s 144us/sample - loss: 0.0271 - accuracy: 0.9911 - val_loss: 0.1076 - val_accuracy: 0.9741\n",
      "Epoch 8/10\n",
      "48000/48000 [==============================] - 7s 140us/sample - loss: 0.0213 - accuracy: 0.9934 - val_loss: 0.0963 - val_accuracy: 0.9782\n",
      "Epoch 9/10\n",
      "48000/48000 [==============================] - 7s 136us/sample - loss: 0.0216 - accuracy: 0.9929 - val_loss: 0.0990 - val_accuracy: 0.9771\n",
      "Epoch 10/10\n",
      "48000/48000 [==============================] - 7s 144us/sample - loss: 0.0185 - accuracy: 0.9940 - val_loss: 0.1109 - val_accuracy: 0.9762\n"
     ]
    }
   ],
   "source": [
    "models = tf.keras.Sequential\n",
    "layers = tf.keras.layers\n",
    "\n",
    "model = models([layers.Dense(512,activation=\"relu\",input_shape=(28 * 28,)),\n",
    "                layers.Dense(64,activation=\"relu\"),\n",
    "                layers.Dense(16,activation=\"relu\"),\n",
    "                layers.Dense(10, activation='softmax')])\n",
    "\n",
    "model.compile(optimizer=\"adam\", # adam # rmsprop\n",
    "             loss=\"categorical_crossentropy\",\n",
    "             metrics=[\"accuracy\"])\n",
    "\n",
    "history = model.fit(new_x_train,y_train,epochs=10,validation_split=(0.2))"
   ]
  },
  {
   "cell_type": "code",
   "execution_count": 12,
   "metadata": {},
   "outputs": [
    {
     "name": "stdout",
     "output_type": "stream",
     "text": [
      "10000/1 - 1s - loss: 0.0499 - accuracy: 0.9772\n",
      "\n",
      "Loss:  9.96975694473731 %\n",
      "Accuracy:  97.71999716758728 %\n"
     ]
    }
   ],
   "source": [
    "evaluation = model.evaluate(new_x_test,y_test,verbose=2)\n",
    "print()\n",
    "print(\"Loss: \",evaluation[0]*100,\"%\")\n",
    "print(\"Accuracy: \",evaluation[1]*100,\"%\")"
   ]
  },
  {
   "cell_type": "code",
   "execution_count": 16,
   "metadata": {},
   "outputs": [
    {
     "data": {
      "text/plain": [
       "dict_keys(['loss', 'accuracy', 'val_loss', 'val_accuracy'])"
      ]
     },
     "execution_count": 16,
     "metadata": {},
     "output_type": "execute_result"
    }
   ],
   "source": [
    "history.history.keys()"
   ]
  },
  {
   "cell_type": "markdown",
   "metadata": {},
   "source": [
    "# Plotting the training and validation loss"
   ]
  },
  {
   "cell_type": "code",
   "execution_count": 17,
   "metadata": {},
   "outputs": [
    {
     "data": {
      "image/png": "[encoded data removed]",
      "text/plain": [
       "<Figure size 432x288 with 1 Axes>"
      ]
     },
     "metadata": {
      "needs_background": "light"
     },
     "output_type": "display_data"
    }
   ],
   "source": [
    "loss = history.history['loss']\n",
    "val_loss = history.history['val_loss']\n",
    "\n",
    "epochs = range(1, len(loss) + 1)\n",
    "\n",
    "plt.plot(epochs, loss, 'bo', label='Training loss')\n",
    "plt.plot(epochs, val_loss, 'b', label='Validation loss')\n",
    "plt.title('Training and validation loss')\n",
    "plt.xlabel('Epochs')\n",
    "plt.ylabel('Loss')\n",
    "plt.legend()\n",
    "plt.show()"
   ]
  },
  {
   "cell_type": "markdown",
   "metadata": {},
   "source": [
    "# Plotting the training and validation Accuracy"
   ]
  },
  {
   "cell_type": "code",
   "execution_count": 18,
   "metadata": {},
   "outputs": [
    {
     "data": {
      "image/png": "[encoded data removed]",
      "text/plain": [
       "<Figure size 432x288 with 1 Axes>"
      ]
     },
     "metadata": {
      "needs_background": "light"
     },
     "output_type": "display_data"
    }
   ],
   "source": [
    "acc = history.history['accuracy']\n",
    "val_acc = history.history['val_accuracy']\n",
    "\n",
    "epochs = range(1, len(acc) + 1)\n",
    "\n",
    "plt.plot(epochs, acc, 'bo', label='Training acc')\n",
    "plt.plot(epochs, val_acc, 'b', label='Validation acc')\n",
    "plt.title('Training and validation acc')\n",
    "plt.xlabel('Epochs')\n",
    "plt.ylabel('acc')\n",
    "plt.legend()\n",
    "plt.show()"
   ]
  },
  {
   "cell_type": "markdown",
   "metadata": {},
   "source": [
    "# Predict"
   ]
  },
  {
   "cell_type": "code",
   "execution_count": 20,
   "metadata": {},
   "outputs": [
    {
     "name": "stdout",
     "output_type": "stream",
     "text": [
      "Predicted value:  9\n",
      "Actual value:  9\n"
     ]
    },
    {
     "data": {
      "image/png": "[encoded data removed]",
      "text/plain": [
       "<Figure size 432x288 with 1 Axes>"
      ]
     },
     "metadata": {
      "needs_background": "light"
     },
     "output_type": "display_data"
    }
   ],
   "source": [
    "predict = 7\n",
    "a = model.predict_classes(new_x_test)[predict]\n",
    "print(\"Predicted value: \",a)\n",
    "print(\"Actual value: \",np.argmax(y_test[predict]))\n",
    "pic  = x_test[predict]\n",
    "plt.imshow(pic,cmap = plt.cm.binary)\n",
    "plt.show()"
   ]
  },
  {
   "cell_type": "code",
   "execution_count": null,
   "metadata": {},
   "outputs": [],
   "source": []
  }
 ],
 "metadata": {
  "kernelspec": {
   "display_name": "gputest",
   "language": "python",
   "name": "gputest"
  },
  "language_info": {
   "codemirror_mode": {
    "name": "ipython",
    "version": 3
   },
   "file_extension": ".py",
   "mimetype": "text/x-python",
   "name": "python",
   "nbconvert_exporter": "python",
   "pygments_lexer": "ipython3",
   "version": "3.7.6"
  }
 },
 "nbformat": 4,
 "nbformat_minor": 2
}
