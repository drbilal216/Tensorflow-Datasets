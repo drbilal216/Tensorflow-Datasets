{
 "cells": [
  {
   "cell_type": "markdown",
   "metadata": {},
   "source": [
    "### STEP 1 : Load all the necessary libraries "
   ]
  },
  {
   "cell_type": "code",
   "execution_count": 1,
   "metadata": {},
   "outputs": [],
   "source": [
    "import tensorflow as tf\n",
    "import numpy as np\n",
    "import os\n",
    "import pandas as pd\n",
    "import matplotlib.pyplot as plt"
   ]
  },
  {
   "cell_type": "markdown",
   "metadata": {},
   "source": [
    "### Diagnosing Data"
   ]
  },
  {
   "cell_type": "code",
   "execution_count": 2,
   "metadata": {},
   "outputs": [
    {
     "name": "stdout",
     "output_type": "stream",
     "text": [
      "['.ipynb_checkpoints', 'iris.csv', 'iris.ipynb']\n"
     ]
    }
   ],
   "source": [
    "print(os.listdir(\".\"))\n",
    "iris = pd.read_csv('iris.csv')"
   ]
  },
  {
   "cell_type": "code",
   "execution_count": 3,
   "metadata": {},
   "outputs": [
    {
     "data": {
      "text/html": [
       "<div>\n",
       "<style scoped>\n",
       "    .dataframe tbody tr th:only-of-type {\n",
       "        vertical-align: middle;\n",
       "    }\n",
       "\n",
       "    .dataframe tbody tr th {\n",
       "        vertical-align: top;\n",
       "    }\n",
       "\n",
       "    .dataframe thead th {\n",
       "        text-align: right;\n",
       "    }\n",
       "</style>\n",
       "<table border=\"1\" class=\"dataframe\">\n",
       "  <thead>\n",
       "    <tr style=\"text-align: right;\">\n",
       "      <th></th>\n",
       "      <th>sepal.length</th>\n",
       "      <th>sepal.width</th>\n",
       "      <th>petal.length</th>\n",
       "      <th>petal.width</th>\n",
       "      <th>variety</th>\n",
       "    </tr>\n",
       "  </thead>\n",
       "  <tbody>\n",
       "    <tr>\n",
       "      <td>0</td>\n",
       "      <td>5.1</td>\n",
       "      <td>3.5</td>\n",
       "      <td>1.4</td>\n",
       "      <td>0.2</td>\n",
       "      <td>Setosa</td>\n",
       "    </tr>\n",
       "    <tr>\n",
       "      <td>1</td>\n",
       "      <td>4.9</td>\n",
       "      <td>3.0</td>\n",
       "      <td>1.4</td>\n",
       "      <td>0.2</td>\n",
       "      <td>Setosa</td>\n",
       "    </tr>\n",
       "    <tr>\n",
       "      <td>2</td>\n",
       "      <td>4.7</td>\n",
       "      <td>3.2</td>\n",
       "      <td>1.3</td>\n",
       "      <td>0.2</td>\n",
       "      <td>Setosa</td>\n",
       "    </tr>\n",
       "    <tr>\n",
       "      <td>3</td>\n",
       "      <td>4.6</td>\n",
       "      <td>3.1</td>\n",
       "      <td>1.5</td>\n",
       "      <td>0.2</td>\n",
       "      <td>Setosa</td>\n",
       "    </tr>\n",
       "    <tr>\n",
       "      <td>4</td>\n",
       "      <td>5.0</td>\n",
       "      <td>3.6</td>\n",
       "      <td>1.4</td>\n",
       "      <td>0.2</td>\n",
       "      <td>Setosa</td>\n",
       "    </tr>\n",
       "    <tr>\n",
       "      <td>...</td>\n",
       "      <td>...</td>\n",
       "      <td>...</td>\n",
       "      <td>...</td>\n",
       "      <td>...</td>\n",
       "      <td>...</td>\n",
       "    </tr>\n",
       "    <tr>\n",
       "      <td>145</td>\n",
       "      <td>6.7</td>\n",
       "      <td>3.0</td>\n",
       "      <td>5.2</td>\n",
       "      <td>2.3</td>\n",
       "      <td>Virginica</td>\n",
       "    </tr>\n",
       "    <tr>\n",
       "      <td>146</td>\n",
       "      <td>6.3</td>\n",
       "      <td>2.5</td>\n",
       "      <td>5.0</td>\n",
       "      <td>1.9</td>\n",
       "      <td>Virginica</td>\n",
       "    </tr>\n",
       "    <tr>\n",
       "      <td>147</td>\n",
       "      <td>6.5</td>\n",
       "      <td>3.0</td>\n",
       "      <td>5.2</td>\n",
       "      <td>2.0</td>\n",
       "      <td>Virginica</td>\n",
       "    </tr>\n",
       "    <tr>\n",
       "      <td>148</td>\n",
       "      <td>6.2</td>\n",
       "      <td>3.4</td>\n",
       "      <td>5.4</td>\n",
       "      <td>2.3</td>\n",
       "      <td>Virginica</td>\n",
       "    </tr>\n",
       "    <tr>\n",
       "      <td>149</td>\n",
       "      <td>5.9</td>\n",
       "      <td>3.0</td>\n",
       "      <td>5.1</td>\n",
       "      <td>1.8</td>\n",
       "      <td>Virginica</td>\n",
       "    </tr>\n",
       "  </tbody>\n",
       "</table>\n",
       "<p>150 rows × 5 columns</p>\n",
       "</div>"
      ],
      "text/plain": [
       "     sepal.length  sepal.width  petal.length  petal.width    variety\n",
       "0             5.1          3.5           1.4          0.2     Setosa\n",
       "1             4.9          3.0           1.4          0.2     Setosa\n",
       "2             4.7          3.2           1.3          0.2     Setosa\n",
       "3             4.6          3.1           1.5          0.2     Setosa\n",
       "4             5.0          3.6           1.4          0.2     Setosa\n",
       "..            ...          ...           ...          ...        ...\n",
       "145           6.7          3.0           5.2          2.3  Virginica\n",
       "146           6.3          2.5           5.0          1.9  Virginica\n",
       "147           6.5          3.0           5.2          2.0  Virginica\n",
       "148           6.2          3.4           5.4          2.3  Virginica\n",
       "149           5.9          3.0           5.1          1.8  Virginica\n",
       "\n",
       "[150 rows x 5 columns]"
      ]
     },
     "metadata": {},
     "output_type": "display_data"
    }
   ],
   "source": [
    "display(iris)"
   ]
  },
  {
   "cell_type": "code",
   "execution_count": 4,
   "metadata": {},
   "outputs": [
    {
     "name": "stdout",
     "output_type": "stream",
     "text": [
      "<class 'pandas.core.frame.DataFrame'>\n",
      "RangeIndex: 150 entries, 0 to 149\n",
      "Data columns (total 5 columns):\n",
      "sepal.length    150 non-null float64\n",
      "sepal.width     150 non-null float64\n",
      "petal.length    150 non-null float64\n",
      "petal.width     150 non-null float64\n",
      "variety         150 non-null object\n",
      "dtypes: float64(4), object(1)\n",
      "memory usage: 6.0+ KB\n"
     ]
    }
   ],
   "source": [
    "iris.info()"
   ]
  },
  {
   "cell_type": "code",
   "execution_count": 5,
   "metadata": {},
   "outputs": [
    {
     "data": {
      "text/plain": [
       "Versicolor    50\n",
       "Virginica     50\n",
       "Setosa        50\n",
       "Name: variety, dtype: int64"
      ]
     },
     "execution_count": 5,
     "metadata": {},
     "output_type": "execute_result"
    }
   ],
   "source": [
    "iris[\"variety\"].value_counts()"
   ]
  },
  {
   "cell_type": "code",
   "execution_count": 6,
   "metadata": {},
   "outputs": [
    {
     "data": {
      "text/plain": [
       "array(['Setosa', 'Versicolor', 'Virginica'], dtype=object)"
      ]
     },
     "execution_count": 6,
     "metadata": {},
     "output_type": "execute_result"
    }
   ],
   "source": [
    "iris[\"variety\"].unique()"
   ]
  },
  {
   "cell_type": "markdown",
   "metadata": {},
   "source": [
    "### STEP 2 : Data Preparation"
   ]
  },
  {
   "cell_type": "code",
   "execution_count": 7,
   "metadata": {},
   "outputs": [
    {
     "data": {
      "text/html": [
       "<div>\n",
       "<style scoped>\n",
       "    .dataframe tbody tr th:only-of-type {\n",
       "        vertical-align: middle;\n",
       "    }\n",
       "\n",
       "    .dataframe tbody tr th {\n",
       "        vertical-align: top;\n",
       "    }\n",
       "\n",
       "    .dataframe thead th {\n",
       "        text-align: right;\n",
       "    }\n",
       "</style>\n",
       "<table border=\"1\" class=\"dataframe\">\n",
       "  <thead>\n",
       "    <tr style=\"text-align: right;\">\n",
       "      <th></th>\n",
       "      <th>sepal.length</th>\n",
       "      <th>sepal.width</th>\n",
       "      <th>petal.length</th>\n",
       "      <th>petal.width</th>\n",
       "      <th>variety</th>\n",
       "    </tr>\n",
       "  </thead>\n",
       "  <tbody>\n",
       "    <tr>\n",
       "      <td>145</td>\n",
       "      <td>6.7</td>\n",
       "      <td>3.0</td>\n",
       "      <td>5.2</td>\n",
       "      <td>2.3</td>\n",
       "      <td>2</td>\n",
       "    </tr>\n",
       "    <tr>\n",
       "      <td>146</td>\n",
       "      <td>6.3</td>\n",
       "      <td>2.5</td>\n",
       "      <td>5.0</td>\n",
       "      <td>1.9</td>\n",
       "      <td>2</td>\n",
       "    </tr>\n",
       "    <tr>\n",
       "      <td>147</td>\n",
       "      <td>6.5</td>\n",
       "      <td>3.0</td>\n",
       "      <td>5.2</td>\n",
       "      <td>2.0</td>\n",
       "      <td>2</td>\n",
       "    </tr>\n",
       "    <tr>\n",
       "      <td>148</td>\n",
       "      <td>6.2</td>\n",
       "      <td>3.4</td>\n",
       "      <td>5.4</td>\n",
       "      <td>2.3</td>\n",
       "      <td>2</td>\n",
       "    </tr>\n",
       "    <tr>\n",
       "      <td>149</td>\n",
       "      <td>5.9</td>\n",
       "      <td>3.0</td>\n",
       "      <td>5.1</td>\n",
       "      <td>1.8</td>\n",
       "      <td>2</td>\n",
       "    </tr>\n",
       "  </tbody>\n",
       "</table>\n",
       "</div>"
      ],
      "text/plain": [
       "     sepal.length  sepal.width  petal.length  petal.width  variety\n",
       "145           6.7          3.0           5.2          2.3        2\n",
       "146           6.3          2.5           5.0          1.9        2\n",
       "147           6.5          3.0           5.2          2.0        2\n",
       "148           6.2          3.4           5.4          2.3        2\n",
       "149           5.9          3.0           5.1          1.8        2"
      ]
     },
     "execution_count": 7,
     "metadata": {},
     "output_type": "execute_result"
    }
   ],
   "source": [
    "# changing labels in numbers for macihne learning\n",
    "#iris = iris.replace([\"Setosa\",\"Versicolor\",\"Virginica\"],[0,1,2])\n",
    "\n",
    "#or i think this is also one hot encoding\n",
    "\n",
    "from sklearn.preprocessing import LabelEncoder\n",
    "le = LabelEncoder\n",
    "iris[\"variety\"] = le.fit_transform(iris[\"variety\"],iris[\"variety\"])\n",
    "iris.tail()"
   ]
  },
  {
   "cell_type": "code",
   "execution_count": 8,
   "metadata": {},
   "outputs": [
    {
     "name": "stdout",
     "output_type": "stream",
     "text": [
      "<class 'pandas.core.frame.DataFrame'>\n",
      "RangeIndex: 150 entries, 0 to 149\n",
      "Data columns (total 5 columns):\n",
      "sepal.length    150 non-null float64\n",
      "sepal.width     150 non-null float64\n",
      "petal.length    150 non-null float64\n",
      "petal.width     150 non-null float64\n",
      "variety         150 non-null int32\n",
      "dtypes: float64(4), int32(1)\n",
      "memory usage: 5.4 KB\n"
     ]
    }
   ],
   "source": [
    "iris.info()"
   ]
  },
  {
   "cell_type": "code",
   "execution_count": 9,
   "metadata": {},
   "outputs": [
    {
     "name": "stdout",
     "output_type": "stream",
     "text": [
      "<class 'pandas.core.frame.DataFrame'>\n",
      "RangeIndex: 150 entries, 0 to 149\n",
      "Data columns (total 5 columns):\n",
      "sepal.length    150 non-null float64\n",
      "sepal.width     150 non-null float64\n",
      "petal.length    150 non-null float64\n",
      "petal.width     150 non-null float64\n",
      "variety         150 non-null float64\n",
      "dtypes: float64(5)\n",
      "memory usage: 6.0 KB\n"
     ]
    }
   ],
   "source": [
    "iris[\"variety\"] = iris[\"variety\"].astype('float')\n",
    "iris.info()"
   ]
  },
  {
   "cell_type": "code",
   "execution_count": 10,
   "metadata": {},
   "outputs": [
    {
     "data": {
      "text/html": [
       "<div>\n",
       "<style scoped>\n",
       "    .dataframe tbody tr th:only-of-type {\n",
       "        vertical-align: middle;\n",
       "    }\n",
       "\n",
       "    .dataframe tbody tr th {\n",
       "        vertical-align: top;\n",
       "    }\n",
       "\n",
       "    .dataframe thead th {\n",
       "        text-align: right;\n",
       "    }\n",
       "</style>\n",
       "<table border=\"1\" class=\"dataframe\">\n",
       "  <thead>\n",
       "    <tr style=\"text-align: right;\">\n",
       "      <th></th>\n",
       "      <th>sepal.length</th>\n",
       "      <th>sepal.width</th>\n",
       "      <th>petal.length</th>\n",
       "      <th>petal.width</th>\n",
       "      <th>variety</th>\n",
       "    </tr>\n",
       "  </thead>\n",
       "  <tbody>\n",
       "    <tr>\n",
       "      <td>0</td>\n",
       "      <td>5.1</td>\n",
       "      <td>3.5</td>\n",
       "      <td>1.4</td>\n",
       "      <td>0.2</td>\n",
       "      <td>0.0</td>\n",
       "    </tr>\n",
       "    <tr>\n",
       "      <td>1</td>\n",
       "      <td>4.9</td>\n",
       "      <td>3.0</td>\n",
       "      <td>1.4</td>\n",
       "      <td>0.2</td>\n",
       "      <td>0.0</td>\n",
       "    </tr>\n",
       "    <tr>\n",
       "      <td>2</td>\n",
       "      <td>4.7</td>\n",
       "      <td>3.2</td>\n",
       "      <td>1.3</td>\n",
       "      <td>0.2</td>\n",
       "      <td>0.0</td>\n",
       "    </tr>\n",
       "    <tr>\n",
       "      <td>3</td>\n",
       "      <td>4.6</td>\n",
       "      <td>3.1</td>\n",
       "      <td>1.5</td>\n",
       "      <td>0.2</td>\n",
       "      <td>0.0</td>\n",
       "    </tr>\n",
       "    <tr>\n",
       "      <td>4</td>\n",
       "      <td>5.0</td>\n",
       "      <td>3.6</td>\n",
       "      <td>1.4</td>\n",
       "      <td>0.2</td>\n",
       "      <td>0.0</td>\n",
       "    </tr>\n",
       "    <tr>\n",
       "      <td>...</td>\n",
       "      <td>...</td>\n",
       "      <td>...</td>\n",
       "      <td>...</td>\n",
       "      <td>...</td>\n",
       "      <td>...</td>\n",
       "    </tr>\n",
       "    <tr>\n",
       "      <td>145</td>\n",
       "      <td>6.7</td>\n",
       "      <td>3.0</td>\n",
       "      <td>5.2</td>\n",
       "      <td>2.3</td>\n",
       "      <td>2.0</td>\n",
       "    </tr>\n",
       "    <tr>\n",
       "      <td>146</td>\n",
       "      <td>6.3</td>\n",
       "      <td>2.5</td>\n",
       "      <td>5.0</td>\n",
       "      <td>1.9</td>\n",
       "      <td>2.0</td>\n",
       "    </tr>\n",
       "    <tr>\n",
       "      <td>147</td>\n",
       "      <td>6.5</td>\n",
       "      <td>3.0</td>\n",
       "      <td>5.2</td>\n",
       "      <td>2.0</td>\n",
       "      <td>2.0</td>\n",
       "    </tr>\n",
       "    <tr>\n",
       "      <td>148</td>\n",
       "      <td>6.2</td>\n",
       "      <td>3.4</td>\n",
       "      <td>5.4</td>\n",
       "      <td>2.3</td>\n",
       "      <td>2.0</td>\n",
       "    </tr>\n",
       "    <tr>\n",
       "      <td>149</td>\n",
       "      <td>5.9</td>\n",
       "      <td>3.0</td>\n",
       "      <td>5.1</td>\n",
       "      <td>1.8</td>\n",
       "      <td>2.0</td>\n",
       "    </tr>\n",
       "  </tbody>\n",
       "</table>\n",
       "<p>150 rows × 5 columns</p>\n",
       "</div>"
      ],
      "text/plain": [
       "     sepal.length  sepal.width  petal.length  petal.width  variety\n",
       "0             5.1          3.5           1.4          0.2      0.0\n",
       "1             4.9          3.0           1.4          0.2      0.0\n",
       "2             4.7          3.2           1.3          0.2      0.0\n",
       "3             4.6          3.1           1.5          0.2      0.0\n",
       "4             5.0          3.6           1.4          0.2      0.0\n",
       "..            ...          ...           ...          ...      ...\n",
       "145           6.7          3.0           5.2          2.3      2.0\n",
       "146           6.3          2.5           5.0          1.9      2.0\n",
       "147           6.5          3.0           5.2          2.0      2.0\n",
       "148           6.2          3.4           5.4          2.3      2.0\n",
       "149           5.9          3.0           5.1          1.8      2.0\n",
       "\n",
       "[150 rows x 5 columns]"
      ]
     },
     "metadata": {},
     "output_type": "display_data"
    }
   ],
   "source": [
    "display(iris)"
   ]
  },
  {
   "cell_type": "code",
   "execution_count": 11,
   "metadata": {},
   "outputs": [],
   "source": [
    "features_array = np.array(iris.drop([\"variety\"],axis=1))\n",
    "labels_array = np.array(iris[\"variety\"])\n",
    "features_array = np.array(iris.drop([\"variety\"],axis=1))\n",
    "\n",
    "\n",
    "# split in 75% training and 25% test \n",
    "from sklearn.model_selection import train_test_split\n",
    "\n",
    "X_train, X_test, y_train, y_test = train_test_split(features_array, labels_array, test_size=0.25, random_state=1)\n"
   ]
  },
  {
   "cell_type": "code",
   "execution_count": 12,
   "metadata": {},
   "outputs": [
    {
     "name": "stdout",
     "output_type": "stream",
     "text": [
      "training feature : (112, 4)\n",
      "training labels : (112,)\n",
      "testing feature : (38, 4)\n",
      "testing labels : (38,)\n"
     ]
    }
   ],
   "source": [
    "print(\"training feature :\",X_train.shape) \n",
    "print(\"training labels :\",y_train.shape)\n",
    "print(\"testing feature :\",X_test.shape)\n",
    "print(\"testing labels :\",y_test.shape)"
   ]
  },
  {
   "cell_type": "code",
   "execution_count": 13,
   "metadata": {},
   "outputs": [
    {
     "name": "stdout",
     "output_type": "stream",
     "text": [
      "training feature : <class 'numpy.ndarray'>\n",
      "training labels : <class 'numpy.ndarray'>\n",
      "testing feature : <class 'numpy.ndarray'>\n",
      "testing labels : <class 'numpy.ndarray'>\n"
     ]
    }
   ],
   "source": [
    "print(\"training feature :\",type(X_train)) \n",
    "print(\"training labels :\",type(y_train))\n",
    "print(\"testing feature :\",type(X_test))\n",
    "print(\"testing labels :\",type(y_test))"
   ]
  },
  {
   "cell_type": "code",
   "execution_count": 14,
   "metadata": {},
   "outputs": [],
   "source": [
    "# Or"
   ]
  },
  {
   "cell_type": "code",
   "execution_count": 15,
   "metadata": {},
   "outputs": [
    {
     "data": {
      "text/plain": [
       "array([[6. , 3. , 4.8, 1.8, 2. ],\n",
       "       [4.9, 2.5, 4.5, 1.7, 2. ],\n",
       "       [6.9, 3.2, 5.7, 2.3, 2. ],\n",
       "       [5.9, 3. , 4.2, 1.5, 1. ],\n",
       "       [5.8, 4. , 1.2, 0.2, 0. ],\n",
       "       [4.9, 3. , 1.4, 0.2, 0. ],\n",
       "       [5.9, 3.2, 4.8, 1.8, 1. ],\n",
       "       [4.6, 3.6, 1. , 0.2, 0. ],\n",
       "       [6.4, 3.2, 5.3, 2.3, 2. ],\n",
       "       [5.8, 2.7, 4.1, 1. , 1. ],\n",
       "       [5.1, 3.5, 1.4, 0.3, 0. ],\n",
       "       [4.6, 3.2, 1.4, 0.2, 0. ],\n",
       "       [6.9, 3.1, 5.1, 2.3, 2. ],\n",
       "       [6.3, 2.5, 5. , 1.9, 2. ],\n",
       "       [6.7, 3.3, 5.7, 2.5, 2. ],\n",
       "       [5.1, 3.4, 1.5, 0.2, 0. ],\n",
       "       [6.1, 3. , 4.9, 1.8, 2. ],\n",
       "       [5. , 3.2, 1.2, 0.2, 0. ],\n",
       "       [5.6, 3. , 4.1, 1.3, 1. ],\n",
       "       [4.9, 3.1, 1.5, 0.1, 0. ],\n",
       "       [6.1, 3. , 4.6, 1.4, 1. ],\n",
       "       [4.7, 3.2, 1.6, 0.2, 0. ],\n",
       "       [6.8, 2.8, 4.8, 1.4, 1. ],\n",
       "       [6.2, 2.9, 4.3, 1.3, 1. ],\n",
       "       [5. , 2.3, 3.3, 1. , 1. ],\n",
       "       [7.1, 3. , 5.9, 2.1, 2. ],\n",
       "       [5.2, 3.4, 1.4, 0.2, 0. ],\n",
       "       [6. , 2.9, 4.5, 1.5, 1. ],\n",
       "       [6.7, 3.1, 4.7, 1.5, 1. ],\n",
       "       [6.5, 3. , 5.8, 2.2, 2. ],\n",
       "       [5.7, 2.8, 4.1, 1.3, 1. ],\n",
       "       [5.7, 2.6, 3.5, 1. , 1. ],\n",
       "       [6.4, 2.8, 5.6, 2.2, 2. ],\n",
       "       [6.4, 2.8, 5.6, 2.1, 2. ],\n",
       "       [4.3, 3. , 1.1, 0.1, 0. ],\n",
       "       [6.4, 2.7, 5.3, 1.9, 2. ],\n",
       "       [5.5, 2.5, 4. , 1.3, 1. ],\n",
       "       [5.1, 2.5, 3. , 1.1, 1. ],\n",
       "       [6.7, 2.5, 5.8, 1.8, 2. ],\n",
       "       [4.8, 3.4, 1.6, 0.2, 0. ],\n",
       "       [6.7, 3.1, 4.4, 1.4, 1. ],\n",
       "       [4.7, 3.2, 1.3, 0.2, 0. ],\n",
       "       [5.5, 2.6, 4.4, 1.2, 1. ],\n",
       "       [4.4, 3. , 1.3, 0.2, 0. ],\n",
       "       [6.1, 2.8, 4. , 1.3, 1. ],\n",
       "       [6.7, 3.1, 5.6, 2.4, 2. ],\n",
       "       [6.5, 2.8, 4.6, 1.5, 1. ],\n",
       "       [4.6, 3.4, 1.4, 0.3, 0. ],\n",
       "       [6.3, 2.9, 5.6, 1.8, 2. ],\n",
       "       [5.4, 3. , 4.5, 1.5, 1. ],\n",
       "       [4.5, 2.3, 1.3, 0.3, 0. ],\n",
       "       [6.5, 3.2, 5.1, 2. , 2. ],\n",
       "       [6. , 2.7, 5.1, 1.6, 1. ],\n",
       "       [6.7, 3. , 5. , 1.7, 1. ],\n",
       "       [5.8, 2.7, 5.1, 1.9, 2. ],\n",
       "       [5.5, 2.3, 4. , 1.3, 1. ],\n",
       "       [5.7, 2.8, 4.5, 1.3, 1. ],\n",
       "       [4.9, 3.6, 1.4, 0.1, 0. ],\n",
       "       [5.4, 3.4, 1.5, 0.4, 0. ],\n",
       "       [6.9, 3.1, 5.4, 2.1, 2. ],\n",
       "       [7.7, 3. , 6.1, 2.3, 2. ],\n",
       "       [6.3, 3.3, 6. , 2.5, 2. ],\n",
       "       [5.4, 3.9, 1.3, 0.4, 0. ],\n",
       "       [4.8, 3. , 1.4, 0.3, 0. ],\n",
       "       [5. , 3.5, 1.3, 0.3, 0. ],\n",
       "       [7.4, 2.8, 6.1, 1.9, 2. ],\n",
       "       [5.6, 2.8, 4.9, 2. , 2. ],\n",
       "       [4.4, 2.9, 1.4, 0.2, 0. ],\n",
       "       [6.2, 2.2, 4.5, 1.5, 1. ],\n",
       "       [5.1, 3.8, 1.5, 0.3, 0. ],\n",
       "       [6. , 2.2, 5. , 1.5, 2. ],\n",
       "       [5.6, 2.5, 3.9, 1.1, 1. ],\n",
       "       [4.9, 2.4, 3.3, 1. , 1. ],\n",
       "       [7.7, 2.6, 6.9, 2.3, 2. ],\n",
       "       [6.3, 3.4, 5.6, 2.4, 2. ],\n",
       "       [5.1, 3.7, 1.5, 0.4, 0. ],\n",
       "       [5.5, 3.5, 1.3, 0.2, 0. ],\n",
       "       [6.2, 3.4, 5.4, 2.3, 2. ],\n",
       "       [7.2, 3. , 5.8, 1.6, 2. ],\n",
       "       [6.3, 2.5, 4.9, 1.5, 1. ],\n",
       "       [5.8, 2.7, 3.9, 1.2, 1. ],\n",
       "       [5. , 3.4, 1.6, 0.4, 0. ],\n",
       "       [6.6, 2.9, 4.6, 1.3, 1. ],\n",
       "       [6.6, 3. , 4.4, 1.4, 1. ],\n",
       "       [5.5, 2.4, 3.7, 1. , 1. ],\n",
       "       [6.4, 2.9, 4.3, 1.3, 1. ],\n",
       "       [7.7, 2.8, 6.7, 2. , 2. ],\n",
       "       [5.7, 2.5, 5. , 2. , 2. ],\n",
       "       [5. , 3.4, 1.5, 0.2, 0. ],\n",
       "       [4.8, 3. , 1.4, 0.1, 0. ],\n",
       "       [7.7, 3.8, 6.7, 2.2, 2. ],\n",
       "       [5.8, 2.6, 4. , 1.2, 1. ],\n",
       "       [5.7, 3. , 4.2, 1.2, 1. ],\n",
       "       [4.9, 3.1, 1.5, 0.2, 0. ],\n",
       "       [5.9, 3. , 5.1, 1.8, 2. ],\n",
       "       [4.8, 3.1, 1.6, 0.2, 0. ],\n",
       "       [6.3, 3.3, 4.7, 1.6, 1. ],\n",
       "       [5.1, 3.5, 1.4, 0.2, 0. ],\n",
       "       [5. , 3.3, 1.4, 0.2, 0. ],\n",
       "       [5.1, 3.8, 1.6, 0.2, 0. ],\n",
       "       [5.2, 3.5, 1.5, 0.2, 0. ],\n",
       "       [5.6, 2.7, 4.2, 1.3, 1. ],\n",
       "       [6.8, 3.2, 5.9, 2.3, 2. ],\n",
       "       [7.9, 3.8, 6.4, 2. , 2. ],\n",
       "       [5.7, 4.4, 1.5, 0.4, 0. ],\n",
       "       [5.1, 3.3, 1.7, 0.5, 0. ],\n",
       "       [5.4, 3.9, 1.7, 0.4, 0. ],\n",
       "       [6.5, 3. , 5.2, 2. , 2. ],\n",
       "       [5.4, 3.7, 1.5, 0.2, 0. ],\n",
       "       [5.6, 2.9, 3.6, 1.3, 1. ],\n",
       "       [5. , 3.5, 1.6, 0.6, 0. ],\n",
       "       [5. , 3.6, 1.4, 0.2, 0. ],\n",
       "       [7. , 3.2, 4.7, 1.4, 1. ],\n",
       "       [6.1, 2.6, 5.6, 1.4, 2. ],\n",
       "       [6.9, 3.1, 4.9, 1.5, 1. ],\n",
       "       [4.4, 3.2, 1.3, 0.2, 0. ],\n",
       "       [5.8, 2.8, 5.1, 2.4, 2. ],\n",
       "       [5. , 2. , 3.5, 1. , 1. ],\n",
       "       [5.6, 3. , 4.5, 1.5, 1. ],\n",
       "       [6.3, 2.3, 4.4, 1.3, 1. ],\n",
       "       [5.5, 4.2, 1.4, 0.2, 0. ],\n",
       "       [5.5, 2.4, 3.8, 1.1, 1. ],\n",
       "       [6.7, 3.3, 5.7, 2.1, 2. ],\n",
       "       [6.4, 3.2, 4.5, 1.5, 1. ],\n",
       "       [4.8, 3.4, 1.9, 0.2, 0. ],\n",
       "       [5.7, 2.9, 4.2, 1.3, 1. ],\n",
       "       [7.2, 3.6, 6.1, 2.5, 2. ],\n",
       "       [5.2, 4.1, 1.5, 0.1, 0. ],\n",
       "       [6.4, 3.1, 5.5, 1.8, 2. ],\n",
       "       [5.1, 3.8, 1.9, 0.4, 0. ],\n",
       "       [6. , 2.2, 4. , 1. , 1. ],\n",
       "       [7.2, 3.2, 6. , 1.8, 2. ],\n",
       "       [7.6, 3. , 6.6, 2.1, 2. ],\n",
       "       [6.5, 3. , 5.5, 1.8, 2. ],\n",
       "       [7.3, 2.9, 6.3, 1.8, 2. ],\n",
       "       [6.1, 2.9, 4.7, 1.4, 1. ],\n",
       "       [6.3, 2.8, 5.1, 1.5, 2. ],\n",
       "       [6.8, 3. , 5.5, 2.1, 2. ],\n",
       "       [4.6, 3.1, 1.5, 0.2, 0. ],\n",
       "       [5.2, 2.7, 3.9, 1.4, 1. ],\n",
       "       [6.3, 2.7, 4.9, 1.8, 2. ],\n",
       "       [6.1, 2.8, 4.7, 1.2, 1. ],\n",
       "       [6. , 3.4, 4.5, 1.6, 1. ],\n",
       "       [6.7, 3. , 5.2, 2.3, 2. ],\n",
       "       [5.3, 3.7, 1.5, 0.2, 0. ],\n",
       "       [5.4, 3.4, 1.7, 0.2, 0. ],\n",
       "       [5.8, 2.7, 5.1, 1.9, 2. ],\n",
       "       [5. , 3. , 1.6, 0.2, 0. ],\n",
       "       [5.7, 3.8, 1.7, 0.3, 0. ],\n",
       "       [6.2, 2.8, 4.8, 1.8, 2. ]])"
      ]
     },
     "metadata": {},
     "output_type": "display_data"
    }
   ],
   "source": [
    "iris = iris.sample(frac=1) # Randomizing data\n",
    "iris = iris.values # converting dataframe in array\n",
    "display(iris)"
   ]
  },
  {
   "cell_type": "code",
   "execution_count": 16,
   "metadata": {},
   "outputs": [
    {
     "name": "stdout",
     "output_type": "stream",
     "text": [
      "150\n",
      "112.5\n",
      "37.5\n",
      "150.0\n"
     ]
    }
   ],
   "source": [
    "print(len(iris))\n",
    "print(len(iris)*.75) # 75% \n",
    "print(len(iris)*.25) # 25%\n",
    "print(112.5+37.5)"
   ]
  },
  {
   "cell_type": "code",
   "execution_count": 17,
   "metadata": {},
   "outputs": [],
   "source": [
    "# and split in 75% training and 25% test\n",
    "X_train = iris[:112,:4]#.astype('float') \n",
    "y_train = iris[:112,4]#.astype('float')\n",
    "X_test = iris[112:,:4]#.astype('float')\n",
    "y_test = iris[112:,4]#.astype('float')"
   ]
  },
  {
   "cell_type": "code",
   "execution_count": 18,
   "metadata": {},
   "outputs": [
    {
     "name": "stdout",
     "output_type": "stream",
     "text": [
      "Train_Features : (112, 4)\n",
      "Train_Labels : (112,)\n",
      "Test_Features : (38, 4)\n",
      "Test_Labels : (38,)\n"
     ]
    }
   ],
   "source": [
    "print(\"Train_Features :\",X_train.shape)\n",
    "print(\"Train_Labels :\",y_train.shape)\n",
    "print(\"Test_Features :\",X_test.shape)\n",
    "print(\"Test_Labels :\",y_test.shape)"
   ]
  },
  {
   "cell_type": "code",
   "execution_count": 19,
   "metadata": {},
   "outputs": [
    {
     "name": "stdout",
     "output_type": "stream",
     "text": [
      "training feature : <class 'numpy.ndarray'>\n",
      "training labels : <class 'numpy.ndarray'>\n",
      "testing feature : <class 'numpy.ndarray'>\n",
      "testing labels : <class 'numpy.ndarray'>\n"
     ]
    }
   ],
   "source": [
    "print(\"training feature :\",type(X_train)) \n",
    "print(\"training labels :\",type(y_train))\n",
    "print(\"testing feature :\",type(X_test))\n",
    "print(\"testing labels :\",type(y_test))"
   ]
  },
  {
   "cell_type": "markdown",
   "metadata": {},
   "source": [
    "### STEP 3 : Model Architecture \n",
    "\n",
    "\n",
    "###### Input : 4 \n",
    "###### 1 hidden Layer : 8 nodes\n",
    "###### Output : 3"
   ]
  },
  {
   "cell_type": "code",
   "execution_count": 20,
   "metadata": {},
   "outputs": [],
   "source": [
    "model = tf.keras.models.Sequential([\n",
    "  tf.keras.layers.Dense(128, input_shape=(4,)),\n",
    "  #tf.keras.layers.Dropout(0.001),\n",
    "  tf.keras.layers.Dense(64, activation='relu'),\n",
    "  tf.keras.layers.Dense(8, activation=\"relu\"),\n",
    "  tf.keras.layers.Dense(3, activation='softmax')\n",
    "])"
   ]
  },
  {
   "cell_type": "markdown",
   "metadata": {},
   "source": [
    "### STEP 4 : Compilation Step "
   ]
  },
  {
   "cell_type": "code",
   "execution_count": 21,
   "metadata": {},
   "outputs": [],
   "source": [
    "model.compile(optimizer='adam',\n",
    "              loss='sparse_categorical_crossentropy',\n",
    "              metrics=['accuracy'])"
   ]
  },
  {
   "cell_type": "markdown",
   "metadata": {},
   "source": [
    "### STEP 5 : Evaluation "
   ]
  },
  {
   "cell_type": "code",
   "execution_count": 22,
   "metadata": {},
   "outputs": [
    {
     "name": "stdout",
     "output_type": "stream",
     "text": [
      "Train on 100 samples, validate on 12 samples\n",
      "Epoch 1/115\n",
      "100/100 [==============================] - 1s 11ms/sample - loss: 1.2539 - accuracy: 0.3200 - val_loss: 1.3896 - val_accuracy: 0.2500\n",
      "Epoch 2/115\n",
      "100/100 [==============================] - 0s 410us/sample - loss: 1.1460 - accuracy: 0.2300 - val_loss: 1.2692 - val_accuracy: 0.0833\n",
      "Epoch 3/115\n",
      "100/100 [==============================] - 0s 550us/sample - loss: 1.0816 - accuracy: 0.0600 - val_loss: 1.1580 - val_accuracy: 0.0833\n",
      "Epoch 4/115\n",
      "100/100 [==============================] - 0s 550us/sample - loss: 1.0273 - accuracy: 0.1100 - val_loss: 1.0559 - val_accuracy: 0.0833\n",
      "Epoch 5/115\n",
      "100/100 [==============================] - 0s 580us/sample - loss: 0.9828 - accuracy: 0.2000 - val_loss: 0.9679 - val_accuracy: 0.0833\n",
      "Epoch 6/115\n",
      "100/100 [==============================] - 0s 520us/sample - loss: 0.9450 - accuracy: 0.3300 - val_loss: 0.9112 - val_accuracy: 0.6667\n",
      "Epoch 7/115\n",
      "100/100 [==============================] - 0s 550us/sample - loss: 0.9236 - accuracy: 0.6600 - val_loss: 0.8902 - val_accuracy: 0.7500\n",
      "Epoch 8/115\n",
      "100/100 [==============================] - 0s 510us/sample - loss: 0.9066 - accuracy: 0.6700 - val_loss: 0.8646 - val_accuracy: 0.7500\n",
      "Epoch 9/115\n",
      "100/100 [==============================] - 0s 660us/sample - loss: 0.8807 - accuracy: 0.6700 - val_loss: 0.8387 - val_accuracy: 0.7500\n",
      "Epoch 10/115\n",
      "100/100 [==============================] - 0s 570us/sample - loss: 0.8539 - accuracy: 0.6700 - val_loss: 0.8193 - val_accuracy: 0.7500\n",
      "Epoch 11/115\n",
      "100/100 [==============================] - 0s 455us/sample - loss: 0.8290 - accuracy: 0.6700 - val_loss: 0.8024 - val_accuracy: 0.6667\n",
      "Epoch 12/115\n",
      "100/100 [==============================] - 0s 490us/sample - loss: 0.8116 - accuracy: 0.5500 - val_loss: 0.7811 - val_accuracy: 0.7500\n",
      "Epoch 13/115\n",
      "100/100 [==============================] - 0s 540us/sample - loss: 0.7955 - accuracy: 0.4900 - val_loss: 0.7519 - val_accuracy: 0.8333\n",
      "Epoch 14/115\n",
      "100/100 [==============================] - 0s 530us/sample - loss: 0.7801 - accuracy: 0.6400 - val_loss: 0.7193 - val_accuracy: 0.8333\n",
      "Epoch 15/115\n",
      "100/100 [==============================] - 0s 450us/sample - loss: 0.7640 - accuracy: 0.6500 - val_loss: 0.6849 - val_accuracy: 0.8333\n",
      "Epoch 16/115\n",
      "100/100 [==============================] - 0s 520us/sample - loss: 0.7474 - accuracy: 0.6500 - val_loss: 0.6576 - val_accuracy: 0.8333\n",
      "Epoch 17/115\n",
      "100/100 [==============================] - 0s 470us/sample - loss: 0.7323 - accuracy: 0.6500 - val_loss: 0.6344 - val_accuracy: 0.8333\n",
      "Epoch 18/115\n",
      "100/100 [==============================] - 0s 460us/sample - loss: 0.7206 - accuracy: 0.6500 - val_loss: 0.6163 - val_accuracy: 0.8333\n",
      "Epoch 19/115\n",
      "100/100 [==============================] - 0s 500us/sample - loss: 0.7085 - accuracy: 0.6500 - val_loss: 0.6014 - val_accuracy: 0.8333\n",
      "Epoch 20/115\n",
      "100/100 [==============================] - 0s 510us/sample - loss: 0.6954 - accuracy: 0.6500 - val_loss: 0.5894 - val_accuracy: 0.8333\n",
      "Epoch 21/115\n",
      "100/100 [==============================] - 0s 510us/sample - loss: 0.6823 - accuracy: 0.6500 - val_loss: 0.5796 - val_accuracy: 0.8333\n",
      "Epoch 22/115\n",
      "100/100 [==============================] - 0s 450us/sample - loss: 0.6696 - accuracy: 0.6500 - val_loss: 0.5702 - val_accuracy: 0.8333\n",
      "Epoch 23/115\n",
      "100/100 [==============================] - 0s 531us/sample - loss: 0.6581 - accuracy: 0.6100 - val_loss: 0.5605 - val_accuracy: 0.8333\n",
      "Epoch 24/115\n",
      "100/100 [==============================] - 0s 450us/sample - loss: 0.6475 - accuracy: 0.6100 - val_loss: 0.5491 - val_accuracy: 0.8333\n",
      "Epoch 25/115\n",
      "100/100 [==============================] - 0s 470us/sample - loss: 0.6375 - accuracy: 0.6200 - val_loss: 0.5353 - val_accuracy: 0.8333\n",
      "Epoch 26/115\n",
      "100/100 [==============================] - 0s 490us/sample - loss: 0.6276 - accuracy: 0.6400 - val_loss: 0.5190 - val_accuracy: 0.8333\n",
      "Epoch 27/115\n",
      "100/100 [==============================] - 0s 530us/sample - loss: 0.6177 - accuracy: 0.6500 - val_loss: 0.5010 - val_accuracy: 0.8333\n",
      "Epoch 28/115\n",
      "100/100 [==============================] - 0s 600us/sample - loss: 0.6076 - accuracy: 0.6500 - val_loss: 0.4828 - val_accuracy: 0.8333\n",
      "Epoch 29/115\n",
      "100/100 [==============================] - 0s 560us/sample - loss: 0.5978 - accuracy: 0.6500 - val_loss: 0.4658 - val_accuracy: 0.8333\n",
      "Epoch 30/115\n",
      "100/100 [==============================] - 0s 515us/sample - loss: 0.5885 - accuracy: 0.6500 - val_loss: 0.4507 - val_accuracy: 0.8333\n",
      "Epoch 31/115\n",
      "100/100 [==============================] - 0s 510us/sample - loss: 0.5796 - accuracy: 0.6500 - val_loss: 0.4379 - val_accuracy: 0.8333\n",
      "Epoch 32/115\n",
      "100/100 [==============================] - 0s 600us/sample - loss: 0.5708 - accuracy: 0.6500 - val_loss: 0.4274 - val_accuracy: 0.8333\n",
      "Epoch 33/115\n",
      "100/100 [==============================] - 0s 500us/sample - loss: 0.5619 - accuracy: 0.6500 - val_loss: 0.4190 - val_accuracy: 0.8333\n",
      "Epoch 34/115\n",
      "100/100 [==============================] - 0s 540us/sample - loss: 0.5530 - accuracy: 0.6500 - val_loss: 0.4120 - val_accuracy: 0.8333\n",
      "Epoch 35/115\n",
      "100/100 [==============================] - 0s 610us/sample - loss: 0.5438 - accuracy: 0.6600 - val_loss: 0.4055 - val_accuracy: 0.8333\n",
      "Epoch 36/115\n",
      "100/100 [==============================] - 0s 630us/sample - loss: 0.5347 - accuracy: 0.7800 - val_loss: 0.3988 - val_accuracy: 0.9167\n",
      "Epoch 37/115\n",
      "100/100 [==============================] - 0s 840us/sample - loss: 0.5255 - accuracy: 0.8800 - val_loss: 0.3913 - val_accuracy: 0.9167\n",
      "Epoch 38/115\n",
      "100/100 [==============================] - 0s 570us/sample - loss: 0.5169 - accuracy: 0.9300 - val_loss: 0.3832 - val_accuracy: 1.0000\n",
      "Epoch 39/115\n",
      "100/100 [==============================] - 0s 570us/sample - loss: 0.5094 - accuracy: 0.9300 - val_loss: 0.3745 - val_accuracy: 1.0000\n",
      "Epoch 40/115\n",
      "100/100 [==============================] - 0s 630us/sample - loss: 0.5022 - accuracy: 0.9300 - val_loss: 0.3652 - val_accuracy: 1.0000\n",
      "Epoch 41/115\n",
      "100/100 [==============================] - 0s 560us/sample - loss: 0.4952 - accuracy: 0.9000 - val_loss: 0.3557 - val_accuracy: 0.9167\n",
      "Epoch 42/115\n",
      "100/100 [==============================] - 0s 450us/sample - loss: 0.4882 - accuracy: 0.8700 - val_loss: 0.3466 - val_accuracy: 0.9167\n",
      "Epoch 43/115\n",
      "100/100 [==============================] - 0s 500us/sample - loss: 0.4814 - accuracy: 0.8500 - val_loss: 0.3385 - val_accuracy: 0.9167\n",
      "Epoch 44/115\n",
      "100/100 [==============================] - 0s 680us/sample - loss: 0.4745 - accuracy: 0.8500 - val_loss: 0.3313 - val_accuracy: 0.9167\n",
      "Epoch 45/115\n",
      "100/100 [==============================] - 0s 585us/sample - loss: 0.4676 - accuracy: 0.8700 - val_loss: 0.3251 - val_accuracy: 1.0000\n",
      "Epoch 46/115\n",
      "100/100 [==============================] - 0s 560us/sample - loss: 0.4607 - accuracy: 0.8800 - val_loss: 0.3199 - val_accuracy: 1.0000\n",
      "Epoch 47/115\n",
      "100/100 [==============================] - 0s 590us/sample - loss: 0.4537 - accuracy: 0.9200 - val_loss: 0.3152 - val_accuracy: 1.0000\n",
      "Epoch 48/115\n",
      "100/100 [==============================] - 0s 640us/sample - loss: 0.4469 - accuracy: 0.9500 - val_loss: 0.3107 - val_accuracy: 1.0000\n",
      "Epoch 49/115\n",
      "100/100 [==============================] - 0s 640us/sample - loss: 0.4402 - accuracy: 0.9700 - val_loss: 0.3057 - val_accuracy: 1.0000\n",
      "Epoch 50/115\n",
      "100/100 [==============================] - 0s 600us/sample - loss: 0.4335 - accuracy: 0.9700 - val_loss: 0.3001 - val_accuracy: 1.0000\n",
      "Epoch 51/115\n",
      "100/100 [==============================] - 0s 680us/sample - loss: 0.4267 - accuracy: 0.9700 - val_loss: 0.2941 - val_accuracy: 1.0000\n",
      "Epoch 52/115\n",
      "100/100 [==============================] - 0s 610us/sample - loss: 0.4199 - accuracy: 0.9700 - val_loss: 0.2880 - val_accuracy: 1.0000\n",
      "Epoch 53/115\n",
      "100/100 [==============================] - 0s 520us/sample - loss: 0.4132 - accuracy: 0.9700 - val_loss: 0.2819 - val_accuracy: 1.0000\n",
      "Epoch 54/115\n",
      "100/100 [==============================] - 0s 710us/sample - loss: 0.4066 - accuracy: 0.9600 - val_loss: 0.2763 - val_accuracy: 1.0000\n",
      "Epoch 55/115\n",
      "100/100 [==============================] - 0s 610us/sample - loss: 0.4002 - accuracy: 0.9600 - val_loss: 0.2714 - val_accuracy: 1.0000\n",
      "Epoch 56/115\n",
      "100/100 [==============================] - 0s 600us/sample - loss: 0.3938 - accuracy: 0.9600 - val_loss: 0.2672 - val_accuracy: 1.0000\n"
     ]
    },
    {
     "name": "stdout",
     "output_type": "stream",
     "text": [
      "Epoch 57/115\n",
      "100/100 [==============================] - 0s 630us/sample - loss: 0.3873 - accuracy: 0.9600 - val_loss: 0.2637 - val_accuracy: 1.0000\n",
      "Epoch 58/115\n",
      "100/100 [==============================] - 0s 550us/sample - loss: 0.3807 - accuracy: 0.9600 - val_loss: 0.2606 - val_accuracy: 1.0000\n",
      "Epoch 59/115\n",
      "100/100 [==============================] - 0s 620us/sample - loss: 0.3741 - accuracy: 0.9700 - val_loss: 0.2573 - val_accuracy: 1.0000\n",
      "Epoch 60/115\n",
      "100/100 [==============================] - 0s 600us/sample - loss: 0.3675 - accuracy: 0.9700 - val_loss: 0.2537 - val_accuracy: 1.0000\n",
      "Epoch 61/115\n",
      "100/100 [==============================] - 0s 535us/sample - loss: 0.3610 - accuracy: 0.9700 - val_loss: 0.2494 - val_accuracy: 1.0000\n",
      "Epoch 62/115\n",
      "100/100 [==============================] - 0s 560us/sample - loss: 0.3544 - accuracy: 0.9700 - val_loss: 0.2446 - val_accuracy: 1.0000\n",
      "Epoch 63/115\n",
      "100/100 [==============================] - 0s 590us/sample - loss: 0.3479 - accuracy: 0.9700 - val_loss: 0.2395 - val_accuracy: 1.0000\n",
      "Epoch 64/115\n",
      "100/100 [==============================] - 0s 600us/sample - loss: 0.3414 - accuracy: 0.9700 - val_loss: 0.2346 - val_accuracy: 1.0000\n",
      "Epoch 65/115\n",
      "100/100 [==============================] - 0s 630us/sample - loss: 0.3347 - accuracy: 0.9700 - val_loss: 0.2300 - val_accuracy: 1.0000\n",
      "Epoch 66/115\n",
      "100/100 [==============================] - 0s 570us/sample - loss: 0.3278 - accuracy: 0.9700 - val_loss: 0.2253 - val_accuracy: 1.0000\n",
      "Epoch 67/115\n",
      "100/100 [==============================] - 0s 570us/sample - loss: 0.3209 - accuracy: 0.9700 - val_loss: 0.2206 - val_accuracy: 1.0000\n",
      "Epoch 68/115\n",
      "100/100 [==============================] - 0s 620us/sample - loss: 0.3139 - accuracy: 0.9700 - val_loss: 0.2160 - val_accuracy: 1.0000\n",
      "Epoch 69/115\n",
      "100/100 [==============================] - 0s 580us/sample - loss: 0.3071 - accuracy: 0.9600 - val_loss: 0.2113 - val_accuracy: 1.0000\n",
      "Epoch 70/115\n",
      "100/100 [==============================] - 0s 605us/sample - loss: 0.3004 - accuracy: 0.9600 - val_loss: 0.2060 - val_accuracy: 1.0000\n",
      "Epoch 71/115\n",
      "100/100 [==============================] - 0s 690us/sample - loss: 0.2937 - accuracy: 0.9700 - val_loss: 0.2006 - val_accuracy: 1.0000\n",
      "Epoch 72/115\n",
      "100/100 [==============================] - 0s 600us/sample - loss: 0.2870 - accuracy: 0.9700 - val_loss: 0.1953 - val_accuracy: 1.0000\n",
      "Epoch 73/115\n",
      "100/100 [==============================] - 0s 840us/sample - loss: 0.2803 - accuracy: 0.9700 - val_loss: 0.1906 - val_accuracy: 1.0000\n",
      "Epoch 74/115\n",
      "100/100 [==============================] - 0s 610us/sample - loss: 0.2736 - accuracy: 0.9700 - val_loss: 0.1866 - val_accuracy: 1.0000\n",
      "Epoch 75/115\n",
      "100/100 [==============================] - 0s 580us/sample - loss: 0.2670 - accuracy: 0.9700 - val_loss: 0.1832 - val_accuracy: 1.0000\n",
      "Epoch 76/115\n",
      "100/100 [==============================] - 0s 630us/sample - loss: 0.2605 - accuracy: 0.9600 - val_loss: 0.1801 - val_accuracy: 1.0000\n",
      "Epoch 77/115\n",
      "100/100 [==============================] - 0s 620us/sample - loss: 0.2542 - accuracy: 0.9600 - val_loss: 0.1769 - val_accuracy: 1.0000\n",
      "Epoch 78/115\n",
      "100/100 [==============================] - 0s 790us/sample - loss: 0.2483 - accuracy: 0.9600 - val_loss: 0.1731 - val_accuracy: 1.0000\n",
      "Epoch 79/115\n",
      "100/100 [==============================] - 0s 660us/sample - loss: 0.2426 - accuracy: 0.9600 - val_loss: 0.1698 - val_accuracy: 1.0000\n",
      "Epoch 80/115\n",
      "100/100 [==============================] - 0s 650us/sample - loss: 0.2369 - accuracy: 0.9600 - val_loss: 0.1665 - val_accuracy: 1.0000\n",
      "Epoch 81/115\n",
      "100/100 [==============================] - 0s 610us/sample - loss: 0.2314 - accuracy: 0.9600 - val_loss: 0.1632 - val_accuracy: 1.0000\n",
      "Epoch 82/115\n",
      "100/100 [==============================] - 0s 590us/sample - loss: 0.2261 - accuracy: 0.9600 - val_loss: 0.1596 - val_accuracy: 1.0000\n",
      "Epoch 83/115\n",
      "100/100 [==============================] - 0s 655us/sample - loss: 0.2205 - accuracy: 0.9600 - val_loss: 0.1563 - val_accuracy: 1.0000\n",
      "Epoch 84/115\n",
      "100/100 [==============================] - 0s 630us/sample - loss: 0.2151 - accuracy: 0.9600 - val_loss: 0.1538 - val_accuracy: 1.0000\n",
      "Epoch 85/115\n",
      "100/100 [==============================] - 0s 580us/sample - loss: 0.2099 - accuracy: 0.9600 - val_loss: 0.1515 - val_accuracy: 1.0000\n",
      "Epoch 86/115\n",
      "100/100 [==============================] - 0s 710us/sample - loss: 0.2050 - accuracy: 0.9600 - val_loss: 0.1492 - val_accuracy: 1.0000\n",
      "Epoch 87/115\n",
      "100/100 [==============================] - 0s 630us/sample - loss: 0.2001 - accuracy: 0.9700 - val_loss: 0.1462 - val_accuracy: 1.0000\n",
      "Epoch 88/115\n",
      "100/100 [==============================] - 0s 690us/sample - loss: 0.1954 - accuracy: 0.9700 - val_loss: 0.1429 - val_accuracy: 1.0000\n",
      "Epoch 89/115\n",
      "100/100 [==============================] - 0s 730us/sample - loss: 0.1908 - accuracy: 0.9700 - val_loss: 0.1397 - val_accuracy: 1.0000\n",
      "Epoch 90/115\n",
      "100/100 [==============================] - 0s 680us/sample - loss: 0.1863 - accuracy: 0.9700 - val_loss: 0.1369 - val_accuracy: 1.0000\n",
      "Epoch 91/115\n",
      "100/100 [==============================] - 0s 650us/sample - loss: 0.1819 - accuracy: 0.9700 - val_loss: 0.1348 - val_accuracy: 1.0000\n",
      "Epoch 92/115\n",
      "100/100 [==============================] - 0s 660us/sample - loss: 0.1776 - accuracy: 0.9700 - val_loss: 0.1329 - val_accuracy: 1.0000\n",
      "Epoch 93/115\n",
      "100/100 [==============================] - 0s 560us/sample - loss: 0.1735 - accuracy: 0.9700 - val_loss: 0.1308 - val_accuracy: 1.0000\n",
      "Epoch 94/115\n",
      "100/100 [==============================] - 0s 620us/sample - loss: 0.1695 - accuracy: 0.9700 - val_loss: 0.1282 - val_accuracy: 1.0000\n",
      "Epoch 95/115\n",
      "100/100 [==============================] - 0s 610us/sample - loss: 0.1656 - accuracy: 0.9700 - val_loss: 0.1253 - val_accuracy: 1.0000\n",
      "Epoch 96/115\n",
      "100/100 [==============================] - 0s 640us/sample - loss: 0.1618 - accuracy: 0.9700 - val_loss: 0.1227 - val_accuracy: 1.0000\n",
      "Epoch 97/115\n",
      "100/100 [==============================] - 0s 640us/sample - loss: 0.1582 - accuracy: 0.9700 - val_loss: 0.1206 - val_accuracy: 1.0000\n",
      "Epoch 98/115\n",
      "100/100 [==============================] - 0s 630us/sample - loss: 0.1547 - accuracy: 0.9700 - val_loss: 0.1190 - val_accuracy: 1.0000\n",
      "Epoch 99/115\n",
      "100/100 [==============================] - 0s 725us/sample - loss: 0.1513 - accuracy: 0.9700 - val_loss: 0.1174 - val_accuracy: 1.0000\n",
      "Epoch 100/115\n",
      "100/100 [==============================] - 0s 620us/sample - loss: 0.1480 - accuracy: 0.9700 - val_loss: 0.1155 - val_accuracy: 1.0000\n",
      "Epoch 101/115\n",
      "100/100 [==============================] - 0s 630us/sample - loss: 0.1449 - accuracy: 0.9700 - val_loss: 0.1133 - val_accuracy: 1.0000\n",
      "Epoch 102/115\n",
      "100/100 [==============================] - 0s 700us/sample - loss: 0.1419 - accuracy: 0.9700 - val_loss: 0.1111 - val_accuracy: 1.0000\n",
      "Epoch 103/115\n",
      "100/100 [==============================] - 0s 545us/sample - loss: 0.1390 - accuracy: 0.9700 - val_loss: 0.1092 - val_accuracy: 1.0000\n",
      "Epoch 104/115\n",
      "100/100 [==============================] - 0s 600us/sample - loss: 0.1363 - accuracy: 0.9700 - val_loss: 0.1077 - val_accuracy: 1.0000\n",
      "Epoch 105/115\n",
      "100/100 [==============================] - 0s 570us/sample - loss: 0.1337 - accuracy: 0.9700 - val_loss: 0.1066 - val_accuracy: 1.0000\n",
      "Epoch 106/115\n",
      "100/100 [==============================] - 0s 740us/sample - loss: 0.1312 - accuracy: 0.9700 - val_loss: 0.1054 - val_accuracy: 1.0000\n",
      "Epoch 107/115\n",
      "100/100 [==============================] - 0s 600us/sample - loss: 0.1289 - accuracy: 0.9700 - val_loss: 0.1040 - val_accuracy: 1.0000\n",
      "Epoch 108/115\n",
      "100/100 [==============================] - 0s 560us/sample - loss: 0.1266 - accuracy: 0.9700 - val_loss: 0.1024 - val_accuracy: 1.0000\n",
      "Epoch 109/115\n",
      "100/100 [==============================] - 0s 490us/sample - loss: 0.1244 - accuracy: 0.9700 - val_loss: 0.1008 - val_accuracy: 1.0000\n",
      "Epoch 110/115\n",
      "100/100 [==============================] - 0s 700us/sample - loss: 0.1223 - accuracy: 0.9700 - val_loss: 0.0996 - val_accuracy: 1.0000\n",
      "Epoch 111/115\n",
      "100/100 [==============================] - 0s 660us/sample - loss: 0.1203 - accuracy: 0.9700 - val_loss: 0.0987 - val_accuracy: 1.0000\n",
      "Epoch 112/115\n",
      "100/100 [==============================] - 0s 640us/sample - loss: 0.1184 - accuracy: 0.9700 - val_loss: 0.0979 - val_accuracy: 1.0000\n"
     ]
    },
    {
     "name": "stdout",
     "output_type": "stream",
     "text": [
      "Epoch 113/115\n",
      "100/100 [==============================] - 0s 750us/sample - loss: 0.1165 - accuracy: 0.9700 - val_loss: 0.0971 - val_accuracy: 1.0000\n",
      "Epoch 114/115\n",
      "100/100 [==============================] - 0s 570us/sample - loss: 0.1147 - accuracy: 0.9700 - val_loss: 0.0959 - val_accuracy: 1.0000\n",
      "Epoch 115/115\n",
      "100/100 [==============================] - 0s 730us/sample - loss: 0.1130 - accuracy: 0.9700 - val_loss: 0.0946 - val_accuracy: 1.0000\n"
     ]
    }
   ],
   "source": [
    "batch_size = 256\n",
    "epochs = 115\n",
    "history = model.fit(X_train, y_train,batch_size= batch_size,epochs= epochs,verbose=1, validation_split=0.1)"
   ]
  },
  {
   "cell_type": "code",
   "execution_count": 23,
   "metadata": {},
   "outputs": [
    {
     "name": "stdout",
     "output_type": "stream",
     "text": [
      "38/1 - 0s - loss: 0.1197 - accuracy: 0.9737\n",
      "Test loss : 12.984307973008407 %\n",
      "Test accuracy : 97.36841917037964 %\n"
     ]
    }
   ],
   "source": [
    "evaluation = model.evaluate(X_test,  y_test, verbose=2)\n",
    "print(\"Test loss :\",evaluation[0]*100,\"%\")\n",
    "print(\"Test accuracy :\",evaluation[1]*100,\"%\")"
   ]
  },
  {
   "cell_type": "markdown",
   "metadata": {},
   "source": [
    "### STEP 6 : Prediction "
   ]
  },
  {
   "cell_type": "code",
   "execution_count": 24,
   "metadata": {},
   "outputs": [],
   "source": [
    "i = 16\n",
    "prediction =  model.predict_classes(X_test[i].reshape(1,4))"
   ]
  },
  {
   "cell_type": "code",
   "execution_count": 25,
   "metadata": {},
   "outputs": [
    {
     "name": "stdout",
     "output_type": "stream",
     "text": [
      "Predicted value : [2]\n",
      "Real value : 2.0\n",
      "\n",
      "0 = Setosa\n",
      "1 = Versicolor\n",
      "2 = Virginica\n"
     ]
    }
   ],
   "source": [
    "print(\"Predicted value :\",model.predict_classes(X_test[[i]].reshape(1,4))) #reshape ?\n",
    "print(\"Real value :\",y_test[i])\n",
    "print()\n",
    "print(\"0 = Setosa\")\n",
    "print(\"1 = Versicolor\")\n",
    "print(\"2 = Virginica\")"
   ]
  },
  {
   "cell_type": "code",
   "execution_count": 26,
   "metadata": {},
   "outputs": [],
   "source": [
    "##########################################################################################"
   ]
  },
  {
   "cell_type": "code",
   "execution_count": 26,
   "metadata": {},
   "outputs": [
    {
     "data": {
      "text/plain": [
       "dict_keys(['loss', 'accuracy', 'val_loss', 'val_accuracy'])"
      ]
     },
     "execution_count": 26,
     "metadata": {},
     "output_type": "execute_result"
    }
   ],
   "source": [
    "history.history.keys()"
   ]
  },
  {
   "cell_type": "markdown",
   "metadata": {},
   "source": [
    "# Plotting the training and validation loss"
   ]
  },
  {
   "cell_type": "code",
   "execution_count": 27,
   "metadata": {},
   "outputs": [
    {
     "data": {
      "image/png": "[encoded data removed]",
      "text/plain": [
       "<Figure size 432x288 with 1 Axes>"
      ]
     },
     "metadata": {
      "needs_background": "light"
     },
     "output_type": "display_data"
    }
   ],
   "source": [
    "loss = history.history['loss']\n",
    "val_loss = history.history['val_loss']\n",
    "\n",
    "epochs = range(1, len(loss) + 1)\n",
    "\n",
    "plt.plot(epochs, loss, 'bo', label='Training loss')\n",
    "plt.plot(epochs, val_loss, 'b', label='Validation loss')\n",
    "plt.title('Training and validation loss')\n",
    "plt.xlabel('Epochs')\n",
    "plt.ylabel('Loss')\n",
    "plt.legend()\n",
    "plt.show()\n",
    "\n",
    "# kfold chapter 3"
   ]
  },
  {
   "cell_type": "markdown",
   "metadata": {},
   "source": [
    "# Plotting the Training and validation accuracy"
   ]
  },
  {
   "cell_type": "code",
   "execution_count": 28,
   "metadata": {},
   "outputs": [
    {
     "data": {
      "image/png": "[encoded data removed]",
      "text/plain": [
       "<Figure size 432x288 with 1 Axes>"
      ]
     },
     "metadata": {
      "needs_background": "light"
     },
     "output_type": "display_data"
    }
   ],
   "source": [
    "acc = history.history['accuracy']\n",
    "val_acc = history.history['val_accuracy']\n",
    "\n",
    "epochs = range(1, len(acc) + 1)\n",
    "\n",
    "plt.plot(epochs, acc, 'bo', label='Training acc')\n",
    "plt.plot(epochs, val_acc, 'b', label='Validation acc')\n",
    "plt.title('Training and validation acc')\n",
    "plt.xlabel('Epochs')\n",
    "plt.ylabel('acc')\n",
    "plt.legend()\n",
    "plt.show()\n"
   ]
  },
  {
   "cell_type": "code",
   "execution_count": 30,
   "metadata": {},
   "outputs": [
    {
     "name": "stdout",
     "output_type": "stream",
     "text": [
      "Test loss : 8.212229805557351 %\n",
      "Test accuracy : 100.0 %\n"
     ]
    }
   ],
   "source": [
    "print(\"Test loss :\",evaluation[0]*100,\"%\")\n",
    "print(\"Test accuracy :\",evaluation[1]*100,\"%\")"
   ]
  },
  {
   "cell_type": "markdown",
   "metadata": {},
   "source": [
    "# # Hyperparameter tunning"
   ]
  },
  {
   "cell_type": "code",
   "execution_count": 29,
   "metadata": {},
   "outputs": [],
   "source": [
    "def experimenting(batch_size,epochs,drop_ratio):\n",
    "    print(\"batch_size :\",batch_size,\"\\n\",\"epochs :\",epochs,\"\\n\",\"drop_ratio :\",drop_ratio) \n",
    "    \n",
    "    model1 = tf.keras.models.Sequential([\n",
    "    tf.keras.layers.Dense(128, input_shape=(4,)),\n",
    "    #tf.keras.layers.Dropout(0.001),\n",
    "    tf.keras.layers.Dense(64, activation='relu'),\n",
    "    tf.keras.layers.Dense(8, activation=\"relu\"),\n",
    "    tf.keras.layers.Dense(3, activation='softmax')\n",
    "    ])\n",
    "    \n",
    "    model1.compile(optimizer='adam',\n",
    "              loss='sparse_categorical_crossentropy',\n",
    "              metrics=['accuracy'])\n",
    "    \n",
    "    history = model1.fit(X_train, y_train,batch_size= batch_size,epochs= epochs,verbose=1, validation_split=0.1)\n",
    "    \n",
    "    # Plotting the training and validation loss\n",
    "    \n",
    "    loss = history.history['loss']\n",
    "    val_loss = history.history['val_loss']\n",
    " \n",
    "    epochs = range(1, len(loss) + 1)\n",
    "\n",
    "    plt.plot(epochs, loss, 'bo', label='Training loss')\n",
    "    plt.plot(epochs, val_loss, 'b', label='Validation loss')\n",
    "    plt.title('Training and validation loss')\n",
    "    plt.xlabel('Epochs')\n",
    "    plt.ylabel('Loss')\n",
    "    plt.legend()\n",
    "    plt.show()\n",
    "    \n",
    "    # Plotting the training and validation Accuracy\n",
    "    \n",
    "    acc = history.history['accuracy']\n",
    "    val_acc = history.history['val_accuracy']\n",
    "\n",
    "    epochs = range(1, len(acc) + 1)\n",
    "\n",
    "    plt.plot(epochs, acc, 'bo', label='Training acc')\n",
    "    plt.plot(epochs, val_acc, 'b', label='Validation acc')\n",
    "    plt.title('Training and validation acc')\n",
    "    plt.xlabel('Epochs')\n",
    "    plt.ylabel('acc')\n",
    "    plt.legend()\n",
    "    plt.show()\n",
    "    \n",
    "    evaluation = model1.evaluate(X_test,  y_test, verbose=2)\n",
    "    print()\n",
    "    print(\"Test loss :\",evaluation[0]*100,\"%\")\n",
    "    print(\"Test accuracy :\",evaluation[1]*100,\"%\")\n",
    "\n",
    "    #return model1"
   ]
  },
  {
   "cell_type": "code",
   "execution_count": 30,
   "metadata": {},
   "outputs": [
    {
     "name": "stdout",
     "output_type": "stream",
     "text": [
      "batch_size : 128 \n",
      " epochs : 115 \n",
      " drop_ratio : 0.001\n",
      "Train on 100 samples, validate on 12 samples\n",
      "Epoch 1/115\n",
      "100/100 [==============================] - 1s 9ms/sample - loss: 1.4614 - accuracy: 0.3500 - val_loss: 1.3180 - val_accuracy: 0.1667\n",
      "Epoch 2/115\n",
      "100/100 [==============================] - 0s 350us/sample - loss: 1.2721 - accuracy: 0.3500 - val_loss: 1.1331 - val_accuracy: 0.1667\n",
      "Epoch 3/115\n",
      "100/100 [==============================] - 0s 500us/sample - loss: 1.1333 - accuracy: 0.3500 - val_loss: 1.0010 - val_accuracy: 0.7500\n",
      "Epoch 4/115\n",
      "100/100 [==============================] - 0s 490us/sample - loss: 1.0182 - accuracy: 0.5900 - val_loss: 0.9110 - val_accuracy: 0.7500\n",
      "Epoch 5/115\n",
      "100/100 [==============================] - 0s 460us/sample - loss: 0.9371 - accuracy: 0.7900 - val_loss: 0.8471 - val_accuracy: 0.8333\n",
      "Epoch 6/115\n",
      "100/100 [==============================] - 0s 580us/sample - loss: 0.8870 - accuracy: 0.6500 - val_loss: 0.7986 - val_accuracy: 0.8333\n",
      "Epoch 7/115\n",
      "100/100 [==============================] - 0s 530us/sample - loss: 0.8579 - accuracy: 0.6500 - val_loss: 0.7556 - val_accuracy: 0.8333\n",
      "Epoch 8/115\n",
      "100/100 [==============================] - 0s 410us/sample - loss: 0.8336 - accuracy: 0.6500 - val_loss: 0.7088 - val_accuracy: 0.8333\n",
      "Epoch 9/115\n",
      "100/100 [==============================] - 0s 450us/sample - loss: 0.8042 - accuracy: 0.6500 - val_loss: 0.6612 - val_accuracy: 0.8333\n",
      "Epoch 10/115\n",
      "100/100 [==============================] - 0s 440us/sample - loss: 0.7713 - accuracy: 0.6500 - val_loss: 0.6153 - val_accuracy: 0.8333\n",
      "Epoch 11/115\n",
      "100/100 [==============================] - 0s 520us/sample - loss: 0.7370 - accuracy: 0.6500 - val_loss: 0.5746 - val_accuracy: 0.8333\n",
      "Epoch 12/115\n",
      "100/100 [==============================] - 0s 400us/sample - loss: 0.7043 - accuracy: 0.6500 - val_loss: 0.5425 - val_accuracy: 0.8333\n",
      "Epoch 13/115\n",
      "100/100 [==============================] - 0s 390us/sample - loss: 0.6767 - accuracy: 0.6500 - val_loss: 0.5199 - val_accuracy: 0.8333\n",
      "Epoch 14/115\n",
      "100/100 [==============================] - 0s 500us/sample - loss: 0.6557 - accuracy: 0.6500 - val_loss: 0.5044 - val_accuracy: 0.8333\n",
      "Epoch 15/115\n",
      "100/100 [==============================] - 0s 420us/sample - loss: 0.6395 - accuracy: 0.8000 - val_loss: 0.4935 - val_accuracy: 0.7500\n",
      "Epoch 16/115\n",
      "100/100 [==============================] - 0s 500us/sample - loss: 0.6249 - accuracy: 0.7000 - val_loss: 0.4811 - val_accuracy: 0.7500\n",
      "Epoch 17/115\n",
      "100/100 [==============================] - 0s 530us/sample - loss: 0.6068 - accuracy: 0.6800 - val_loss: 0.4578 - val_accuracy: 0.7500\n",
      "Epoch 18/115\n",
      "100/100 [==============================] - 0s 500us/sample - loss: 0.5795 - accuracy: 0.7100 - val_loss: 0.4332 - val_accuracy: 0.8333\n",
      "Epoch 19/115\n",
      "100/100 [==============================] - 0s 620us/sample - loss: 0.5592 - accuracy: 0.9200 - val_loss: 0.4125 - val_accuracy: 1.0000\n",
      "Epoch 20/115\n",
      "100/100 [==============================] - 0s 550us/sample - loss: 0.5435 - accuracy: 0.9600 - val_loss: 0.3945 - val_accuracy: 0.9167\n",
      "Epoch 21/115\n",
      "100/100 [==============================] - 0s 600us/sample - loss: 0.5328 - accuracy: 0.8700 - val_loss: 0.3796 - val_accuracy: 0.9167\n",
      "Epoch 22/115\n",
      "100/100 [==============================] - 0s 520us/sample - loss: 0.5247 - accuracy: 0.7700 - val_loss: 0.3685 - val_accuracy: 0.9167\n",
      "Epoch 23/115\n",
      "100/100 [==============================] - 0s 540us/sample - loss: 0.5171 - accuracy: 0.7200 - val_loss: 0.3598 - val_accuracy: 0.9167\n",
      "Epoch 24/115\n",
      "100/100 [==============================] - 0s 480us/sample - loss: 0.5087 - accuracy: 0.7200 - val_loss: 0.3529 - val_accuracy: 0.9167\n",
      "Epoch 25/115\n",
      "100/100 [==============================] - 0s 490us/sample - loss: 0.4989 - accuracy: 0.7600 - val_loss: 0.3476 - val_accuracy: 0.9167\n",
      "Epoch 26/115\n",
      "100/100 [==============================] - 0s 560us/sample - loss: 0.4884 - accuracy: 0.8200 - val_loss: 0.3438 - val_accuracy: 0.9167\n",
      "Epoch 27/115\n",
      "100/100 [==============================] - 0s 640us/sample - loss: 0.4782 - accuracy: 0.9000 - val_loss: 0.3409 - val_accuracy: 1.0000\n",
      "Epoch 28/115\n",
      "100/100 [==============================] - 0s 600us/sample - loss: 0.4693 - accuracy: 0.9600 - val_loss: 0.3377 - val_accuracy: 1.0000\n",
      "Epoch 29/115\n",
      "100/100 [==============================] - 0s 580us/sample - loss: 0.4614 - accuracy: 0.9600 - val_loss: 0.3332 - val_accuracy: 0.9167\n",
      "Epoch 30/115\n",
      "100/100 [==============================] - 0s 640us/sample - loss: 0.4542 - accuracy: 0.9500 - val_loss: 0.3264 - val_accuracy: 0.9167\n",
      "Epoch 31/115\n",
      "100/100 [==============================] - 0s 550us/sample - loss: 0.4468 - accuracy: 0.9400 - val_loss: 0.3173 - val_accuracy: 0.9167\n",
      "Epoch 32/115\n",
      "100/100 [==============================] - 0s 560us/sample - loss: 0.4390 - accuracy: 0.9500 - val_loss: 0.3069 - val_accuracy: 0.9167\n",
      "Epoch 33/115\n",
      "100/100 [==============================] - 0s 580us/sample - loss: 0.4313 - accuracy: 0.9600 - val_loss: 0.2965 - val_accuracy: 1.0000\n",
      "Epoch 34/115\n",
      "100/100 [==============================] - 0s 600us/sample - loss: 0.4240 - accuracy: 0.9700 - val_loss: 0.2871 - val_accuracy: 1.0000\n",
      "Epoch 35/115\n",
      "100/100 [==============================] - 0s 540us/sample - loss: 0.4175 - accuracy: 0.9600 - val_loss: 0.2793 - val_accuracy: 1.0000\n",
      "Epoch 36/115\n",
      "100/100 [==============================] - 0s 610us/sample - loss: 0.4115 - accuracy: 0.9300 - val_loss: 0.2733 - val_accuracy: 1.0000\n",
      "Epoch 37/115\n",
      "100/100 [==============================] - 0s 560us/sample - loss: 0.4058 - accuracy: 0.9200 - val_loss: 0.2689 - val_accuracy: 1.0000\n",
      "Epoch 38/115\n",
      "100/100 [==============================] - 0s 505us/sample - loss: 0.3998 - accuracy: 0.9200 - val_loss: 0.2660 - val_accuracy: 1.0000\n",
      "Epoch 39/115\n",
      "100/100 [==============================] - 0s 570us/sample - loss: 0.3936 - accuracy: 0.9500 - val_loss: 0.2645 - val_accuracy: 1.0000\n",
      "Epoch 40/115\n",
      "100/100 [==============================] - 0s 530us/sample - loss: 0.3873 - accuracy: 0.9600 - val_loss: 0.2636 - val_accuracy: 1.0000\n",
      "Epoch 41/115\n",
      "100/100 [==============================] - 0s 480us/sample - loss: 0.3813 - accuracy: 0.9600 - val_loss: 0.2627 - val_accuracy: 1.0000\n",
      "Epoch 42/115\n",
      "100/100 [==============================] - 0s 450us/sample - loss: 0.3757 - accuracy: 0.9700 - val_loss: 0.2610 - val_accuracy: 1.0000\n",
      "Epoch 43/115\n",
      "100/100 [==============================] - 0s 550us/sample - loss: 0.3702 - accuracy: 0.9600 - val_loss: 0.2578 - val_accuracy: 1.0000\n",
      "Epoch 44/115\n",
      "100/100 [==============================] - 0s 600us/sample - loss: 0.3646 - accuracy: 0.9600 - val_loss: 0.2530 - val_accuracy: 1.0000\n",
      "Epoch 45/115\n",
      "100/100 [==============================] - 0s 560us/sample - loss: 0.3588 - accuracy: 0.9600 - val_loss: 0.2473 - val_accuracy: 1.0000\n",
      "Epoch 46/115\n",
      "100/100 [==============================] - 0s 600us/sample - loss: 0.3530 - accuracy: 0.9700 - val_loss: 0.2412 - val_accuracy: 1.0000\n",
      "Epoch 47/115\n",
      "100/100 [==============================] - 0s 570us/sample - loss: 0.3473 - accuracy: 0.9600 - val_loss: 0.2353 - val_accuracy: 1.0000\n",
      "Epoch 48/115\n",
      "100/100 [==============================] - 0s 480us/sample - loss: 0.3418 - accuracy: 0.9600 - val_loss: 0.2302 - val_accuracy: 1.0000\n",
      "Epoch 49/115\n",
      "100/100 [==============================] - 0s 580us/sample - loss: 0.3362 - accuracy: 0.9600 - val_loss: 0.2260 - val_accuracy: 1.0000\n",
      "Epoch 50/115\n",
      "100/100 [==============================] - 0s 630us/sample - loss: 0.3306 - accuracy: 0.9600 - val_loss: 0.2229 - val_accuracy: 1.0000\n",
      "Epoch 51/115\n",
      "100/100 [==============================] - 0s 570us/sample - loss: 0.3250 - accuracy: 0.9600 - val_loss: 0.2205 - val_accuracy: 1.0000\n",
      "Epoch 52/115\n",
      "100/100 [==============================] - 0s 611us/sample - loss: 0.3194 - accuracy: 0.9700 - val_loss: 0.2184 - val_accuracy: 1.0000\n",
      "Epoch 53/115\n",
      "100/100 [==============================] - 0s 570us/sample - loss: 0.3140 - accuracy: 0.9700 - val_loss: 0.2161 - val_accuracy: 1.0000\n",
      "Epoch 54/115\n",
      "100/100 [==============================] - 0s 600us/sample - loss: 0.3087 - accuracy: 0.9700 - val_loss: 0.2132 - val_accuracy: 1.0000\n",
      "Epoch 55/115\n",
      "100/100 [==============================] - 0s 490us/sample - loss: 0.3034 - accuracy: 0.9600 - val_loss: 0.2093 - val_accuracy: 1.0000\n"
     ]
    },
    {
     "name": "stdout",
     "output_type": "stream",
     "text": [
      "Epoch 56/115\n",
      "100/100 [==============================] - 0s 630us/sample - loss: 0.2981 - accuracy: 0.9600 - val_loss: 0.2047 - val_accuracy: 1.0000\n",
      "Epoch 57/115\n",
      "100/100 [==============================] - 0s 602us/sample - loss: 0.2928 - accuracy: 0.9700 - val_loss: 0.1999 - val_accuracy: 1.0000\n",
      "Epoch 58/115\n",
      "100/100 [==============================] - 0s 570us/sample - loss: 0.2877 - accuracy: 0.9700 - val_loss: 0.1952 - val_accuracy: 1.0000\n",
      "Epoch 59/115\n",
      "100/100 [==============================] - 0s 550us/sample - loss: 0.2826 - accuracy: 0.9700 - val_loss: 0.1913 - val_accuracy: 1.0000\n",
      "Epoch 60/115\n",
      "100/100 [==============================] - 0s 535us/sample - loss: 0.2776 - accuracy: 0.9700 - val_loss: 0.1882 - val_accuracy: 1.0000\n",
      "Epoch 61/115\n",
      "100/100 [==============================] - 0s 675us/sample - loss: 0.2726 - accuracy: 0.9700 - val_loss: 0.1860 - val_accuracy: 1.0000\n",
      "Epoch 62/115\n",
      "100/100 [==============================] - 0s 540us/sample - loss: 0.2676 - accuracy: 0.9700 - val_loss: 0.1843 - val_accuracy: 1.0000\n",
      "Epoch 63/115\n",
      "100/100 [==============================] - 0s 600us/sample - loss: 0.2626 - accuracy: 0.9700 - val_loss: 0.1826 - val_accuracy: 1.0000\n",
      "Epoch 64/115\n",
      "100/100 [==============================] - 0s 570us/sample - loss: 0.2578 - accuracy: 0.9700 - val_loss: 0.1805 - val_accuracy: 1.0000\n",
      "Epoch 65/115\n",
      "100/100 [==============================] - 0s 650us/sample - loss: 0.2531 - accuracy: 0.9700 - val_loss: 0.1777 - val_accuracy: 1.0000\n",
      "Epoch 66/115\n",
      "100/100 [==============================] - 0s 570us/sample - loss: 0.2484 - accuracy: 0.9700 - val_loss: 0.1742 - val_accuracy: 1.0000\n",
      "Epoch 67/115\n",
      "100/100 [==============================] - 0s 600us/sample - loss: 0.2437 - accuracy: 0.9700 - val_loss: 0.1703 - val_accuracy: 1.0000\n",
      "Epoch 68/115\n",
      "100/100 [==============================] - 0s 430us/sample - loss: 0.2392 - accuracy: 0.9700 - val_loss: 0.1666 - val_accuracy: 1.0000\n",
      "Epoch 69/115\n",
      "100/100 [==============================] - 0s 630us/sample - loss: 0.2347 - accuracy: 0.9700 - val_loss: 0.1636 - val_accuracy: 1.0000\n",
      "Epoch 70/115\n",
      "100/100 [==============================] - 0s 700us/sample - loss: 0.2304 - accuracy: 0.9700 - val_loss: 0.1613 - val_accuracy: 1.0000\n",
      "Epoch 71/115\n",
      "100/100 [==============================] - 0s 670us/sample - loss: 0.2261 - accuracy: 0.9700 - val_loss: 0.1594 - val_accuracy: 1.0000\n",
      "Epoch 72/115\n",
      "100/100 [==============================] - 0s 531us/sample - loss: 0.2219 - accuracy: 0.9700 - val_loss: 0.1577 - val_accuracy: 1.0000\n",
      "Epoch 73/115\n",
      "100/100 [==============================] - 0s 510us/sample - loss: 0.2178 - accuracy: 0.9700 - val_loss: 0.1557 - val_accuracy: 1.0000\n",
      "Epoch 74/115\n",
      "100/100 [==============================] - 0s 630us/sample - loss: 0.2138 - accuracy: 0.9700 - val_loss: 0.1532 - val_accuracy: 1.0000\n",
      "Epoch 75/115\n",
      "100/100 [==============================] - 0s 580us/sample - loss: 0.2099 - accuracy: 0.9700 - val_loss: 0.1503 - val_accuracy: 1.0000\n",
      "Epoch 76/115\n",
      "100/100 [==============================] - 0s 730us/sample - loss: 0.2061 - accuracy: 0.9700 - val_loss: 0.1473 - val_accuracy: 1.0000\n",
      "Epoch 77/115\n",
      "100/100 [==============================] - 0s 641us/sample - loss: 0.2024 - accuracy: 0.9700 - val_loss: 0.1446 - val_accuracy: 1.0000\n",
      "Epoch 78/115\n",
      "100/100 [==============================] - 0s 570us/sample - loss: 0.1988 - accuracy: 0.9700 - val_loss: 0.1423 - val_accuracy: 1.0000\n",
      "Epoch 79/115\n",
      "100/100 [==============================] - 0s 655us/sample - loss: 0.1952 - accuracy: 0.9700 - val_loss: 0.1405 - val_accuracy: 1.0000\n",
      "Epoch 80/115\n",
      "100/100 [==============================] - 0s 580us/sample - loss: 0.1917 - accuracy: 0.9700 - val_loss: 0.1389 - val_accuracy: 1.0000\n",
      "Epoch 81/115\n",
      "100/100 [==============================] - 0s 625us/sample - loss: 0.1884 - accuracy: 0.9800 - val_loss: 0.1373 - val_accuracy: 1.0000\n",
      "Epoch 82/115\n",
      "100/100 [==============================] - 0s 630us/sample - loss: 0.1851 - accuracy: 0.9800 - val_loss: 0.1355 - val_accuracy: 1.0000\n",
      "Epoch 83/115\n",
      "100/100 [==============================] - 0s 605us/sample - loss: 0.1819 - accuracy: 0.9800 - val_loss: 0.1333 - val_accuracy: 1.0000\n",
      "Epoch 84/115\n",
      "100/100 [==============================] - 0s 660us/sample - loss: 0.1788 - accuracy: 0.9800 - val_loss: 0.1310 - val_accuracy: 1.0000\n",
      "Epoch 85/115\n",
      "100/100 [==============================] - 0s 580us/sample - loss: 0.1758 - accuracy: 0.9800 - val_loss: 0.1287 - val_accuracy: 1.0000\n",
      "Epoch 86/115\n",
      "100/100 [==============================] - 0s 570us/sample - loss: 0.1729 - accuracy: 0.9800 - val_loss: 0.1266 - val_accuracy: 1.0000\n",
      "Epoch 87/115\n",
      "100/100 [==============================] - 0s 540us/sample - loss: 0.1700 - accuracy: 0.9800 - val_loss: 0.1251 - val_accuracy: 1.0000\n",
      "Epoch 88/115\n",
      "100/100 [==============================] - 0s 590us/sample - loss: 0.1673 - accuracy: 0.9800 - val_loss: 0.1237 - val_accuracy: 1.0000\n",
      "Epoch 89/115\n",
      "100/100 [==============================] - 0s 630us/sample - loss: 0.1646 - accuracy: 0.9800 - val_loss: 0.1224 - val_accuracy: 1.0000\n",
      "Epoch 90/115\n",
      "100/100 [==============================] - 0s 530us/sample - loss: 0.1620 - accuracy: 0.9800 - val_loss: 0.1210 - val_accuracy: 1.0000\n",
      "Epoch 91/115\n",
      "100/100 [==============================] - 0s 550us/sample - loss: 0.1595 - accuracy: 0.9800 - val_loss: 0.1193 - val_accuracy: 1.0000\n",
      "Epoch 92/115\n",
      "100/100 [==============================] - 0s 540us/sample - loss: 0.1570 - accuracy: 0.9800 - val_loss: 0.1176 - val_accuracy: 1.0000\n",
      "Epoch 93/115\n",
      "100/100 [==============================] - 0s 590us/sample - loss: 0.1546 - accuracy: 0.9800 - val_loss: 0.1159 - val_accuracy: 1.0000\n",
      "Epoch 94/115\n",
      "100/100 [==============================] - 0s 560us/sample - loss: 0.1523 - accuracy: 0.9800 - val_loss: 0.1145 - val_accuracy: 1.0000\n",
      "Epoch 95/115\n",
      "100/100 [==============================] - 0s 570us/sample - loss: 0.1501 - accuracy: 0.9800 - val_loss: 0.1133 - val_accuracy: 1.0000\n",
      "Epoch 96/115\n",
      "100/100 [==============================] - 0s 600us/sample - loss: 0.1479 - accuracy: 0.9700 - val_loss: 0.1123 - val_accuracy: 1.0000\n",
      "Epoch 97/115\n",
      "100/100 [==============================] - 0s 560us/sample - loss: 0.1457 - accuracy: 0.9700 - val_loss: 0.1112 - val_accuracy: 1.0000\n",
      "Epoch 98/115\n",
      "100/100 [==============================] - 0s 520us/sample - loss: 0.1437 - accuracy: 0.9700 - val_loss: 0.1100 - val_accuracy: 1.0000\n",
      "Epoch 99/115\n",
      "100/100 [==============================] - 0s 600us/sample - loss: 0.1417 - accuracy: 0.9700 - val_loss: 0.1085 - val_accuracy: 1.0000\n",
      "Epoch 100/115\n",
      "100/100 [==============================] - 0s 530us/sample - loss: 0.1398 - accuracy: 0.9700 - val_loss: 0.1071 - val_accuracy: 1.0000\n",
      "Epoch 101/115\n",
      "100/100 [==============================] - 0s 580us/sample - loss: 0.1379 - accuracy: 0.9700 - val_loss: 0.1057 - val_accuracy: 1.0000\n",
      "Epoch 102/115\n",
      "100/100 [==============================] - 0s 540us/sample - loss: 0.1361 - accuracy: 0.9700 - val_loss: 0.1046 - val_accuracy: 1.0000\n",
      "Epoch 103/115\n",
      "100/100 [==============================] - 0s 690us/sample - loss: 0.1343 - accuracy: 0.9700 - val_loss: 0.1037 - val_accuracy: 1.0000\n",
      "Epoch 104/115\n",
      "100/100 [==============================] - 0s 515us/sample - loss: 0.1326 - accuracy: 0.9700 - val_loss: 0.1029 - val_accuracy: 1.0000\n",
      "Epoch 105/115\n",
      "100/100 [==============================] - 0s 560us/sample - loss: 0.1309 - accuracy: 0.9700 - val_loss: 0.1022 - val_accuracy: 1.0000\n",
      "Epoch 106/115\n",
      "100/100 [==============================] - 0s 550us/sample - loss: 0.1293 - accuracy: 0.9700 - val_loss: 0.1013 - val_accuracy: 1.0000\n",
      "Epoch 107/115\n",
      "100/100 [==============================] - 0s 640us/sample - loss: 0.1277 - accuracy: 0.9700 - val_loss: 0.1003 - val_accuracy: 1.0000\n",
      "Epoch 108/115\n",
      "100/100 [==============================] - 0s 570us/sample - loss: 0.1262 - accuracy: 0.9700 - val_loss: 0.0992 - val_accuracy: 1.0000\n",
      "Epoch 109/115\n",
      "100/100 [==============================] - 0s 550us/sample - loss: 0.1247 - accuracy: 0.9700 - val_loss: 0.0982 - val_accuracy: 1.0000\n",
      "Epoch 110/115\n",
      "100/100 [==============================] - 0s 720us/sample - loss: 0.1232 - accuracy: 0.9700 - val_loss: 0.0973 - val_accuracy: 1.0000\n",
      "Epoch 111/115\n",
      "100/100 [==============================] - 0s 620us/sample - loss: 0.1218 - accuracy: 0.9700 - val_loss: 0.0966 - val_accuracy: 1.0000\n"
     ]
    },
    {
     "name": "stdout",
     "output_type": "stream",
     "text": [
      "Epoch 112/115\n",
      "100/100 [==============================] - 0s 1ms/sample - loss: 0.1205 - accuracy: 0.9700 - val_loss: 0.0960 - val_accuracy: 1.0000\n",
      "Epoch 113/115\n",
      "100/100 [==============================] - 0s 670us/sample - loss: 0.1192 - accuracy: 0.9700 - val_loss: 0.0952 - val_accuracy: 1.0000\n",
      "Epoch 114/115\n",
      "100/100 [==============================] - 0s 590us/sample - loss: 0.1179 - accuracy: 0.9700 - val_loss: 0.0944 - val_accuracy: 1.0000\n",
      "Epoch 115/115\n",
      "100/100 [==============================] - 0s 560us/sample - loss: 0.1167 - accuracy: 0.9700 - val_loss: 0.0936 - val_accuracy: 1.0000\n"
     ]
    },
    {
     "data": {
      "image/png": "[encoded data removed]",
      "text/plain": [
       "<Figure size 432x288 with 1 Axes>"
      ]
     },
     "metadata": {
      "needs_background": "light"
     },
     "output_type": "display_data"
    },
    {
     "data": {
      "image/png": "[encoded data removed]",
      "text/plain": [
       "<Figure size 432x288 with 1 Axes>"
      ]
     },
     "metadata": {
      "needs_background": "light"
     },
     "output_type": "display_data"
    },
    {
     "name": "stdout",
     "output_type": "stream",
     "text": [
      "38/1 - 0s - loss: 0.1225 - accuracy: 0.9737\n",
      "\n",
      "Test loss : 13.130894264108257 %\n",
      "Test accuracy : 97.36841917037964 %\n"
     ]
    }
   ],
   "source": [
    "batch_size = 128\n",
    "epochs = 115\n",
    "drop_ratio = 0.001 # 0.03 #\n",
    "experimenting(batch_size,epochs,drop_ratio)"
   ]
  },
  {
   "cell_type": "code",
   "execution_count": null,
   "metadata": {},
   "outputs": [],
   "source": []
  },
  {
   "cell_type": "code",
   "execution_count": 2,
   "metadata": {},
   "outputs": [],
   "source": [
    "###############################################"
   ]
  },
  {
   "cell_type": "code",
   "execution_count": null,
   "metadata": {},
   "outputs": [],
   "source": []
  }
 ],
 "metadata": {
  "kernelspec": {
   "display_name": "Python 3",
   "language": "python",
   "name": "python3"
  },
  "language_info": {
   "codemirror_mode": {
    "name": "ipython",
    "version": 3
   },
   "file_extension": ".py",
   "mimetype": "text/x-python",
   "name": "python",
   "nbconvert_exporter": "python",
   "pygments_lexer": "ipython3",
   "version": "3.7.4"
  }
 },
 "nbformat": 4,
 "nbformat_minor": 2
}
