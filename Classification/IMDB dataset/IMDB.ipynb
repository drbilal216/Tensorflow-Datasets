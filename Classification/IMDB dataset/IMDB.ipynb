{
 "cells": [
  {
   "cell_type": "markdown",
   "metadata": {},
   "source": [
    "# IMDB Dataset"
   ]
  },
  {
   "cell_type": "markdown",
   "metadata": {},
   "source": [
    "We have 50,000 records of IMDB(Internet Movie Database) reviews of which 25000 are positive reviews and 25000 are negative revies."
   ]
  },
  {
   "cell_type": "code",
   "execution_count": 1,
   "metadata": {},
   "outputs": [],
   "source": [
    "import pandas as pd\n",
    "import os\n",
    "import tensorflow as tf\n",
    "import numpy as np\n",
    "import matplotlib.pyplot as plt"
   ]
  },
  {
   "cell_type": "code",
   "execution_count": 2,
   "metadata": {},
   "outputs": [
    {
     "data": {
      "text/plain": [
       "['.ipynb_checkpoints',\n",
       " 'imdb (1).ipynb',\n",
       " 'IMDB Dataset.csv',\n",
       " 'IMDB.ipynb',\n",
       " 'IMDB1.ipynb',\n",
       " 'IMDB_online.ipynb']"
      ]
     },
     "execution_count": 2,
     "metadata": {},
     "output_type": "execute_result"
    }
   ],
   "source": [
    "os.listdir(\".\")"
   ]
  },
  {
   "cell_type": "code",
   "execution_count": 3,
   "metadata": {},
   "outputs": [
    {
     "data": {
      "text/html": [
       "<div>\n",
       "<style scoped>\n",
       "    .dataframe tbody tr th:only-of-type {\n",
       "        vertical-align: middle;\n",
       "    }\n",
       "\n",
       "    .dataframe tbody tr th {\n",
       "        vertical-align: top;\n",
       "    }\n",
       "\n",
       "    .dataframe thead th {\n",
       "        text-align: right;\n",
       "    }\n",
       "</style>\n",
       "<table border=\"1\" class=\"dataframe\">\n",
       "  <thead>\n",
       "    <tr style=\"text-align: right;\">\n",
       "      <th></th>\n",
       "      <th>review</th>\n",
       "      <th>sentiment</th>\n",
       "    </tr>\n",
       "  </thead>\n",
       "  <tbody>\n",
       "    <tr>\n",
       "      <th>0</th>\n",
       "      <td>One of the other reviewers has mentioned that ...</td>\n",
       "      <td>positive</td>\n",
       "    </tr>\n",
       "    <tr>\n",
       "      <th>1</th>\n",
       "      <td>A wonderful little production. &lt;br /&gt;&lt;br /&gt;The...</td>\n",
       "      <td>positive</td>\n",
       "    </tr>\n",
       "    <tr>\n",
       "      <th>2</th>\n",
       "      <td>I thought this was a wonderful way to spend ti...</td>\n",
       "      <td>positive</td>\n",
       "    </tr>\n",
       "    <tr>\n",
       "      <th>3</th>\n",
       "      <td>Basically there's a family where a little boy ...</td>\n",
       "      <td>negative</td>\n",
       "    </tr>\n",
       "    <tr>\n",
       "      <th>4</th>\n",
       "      <td>Petter Mattei's \"Love in the Time of Money\" is...</td>\n",
       "      <td>positive</td>\n",
       "    </tr>\n",
       "  </tbody>\n",
       "</table>\n",
       "</div>"
      ],
      "text/plain": [
       "                                              review sentiment\n",
       "0  One of the other reviewers has mentioned that ...  positive\n",
       "1  A wonderful little production. <br /><br />The...  positive\n",
       "2  I thought this was a wonderful way to spend ti...  positive\n",
       "3  Basically there's a family where a little boy ...  negative\n",
       "4  Petter Mattei's \"Love in the Time of Money\" is...  positive"
      ]
     },
     "execution_count": 3,
     "metadata": {},
     "output_type": "execute_result"
    }
   ],
   "source": [
    "df = pd.read_csv(\"IMDB Dataset.csv\")\n",
    "df.head()"
   ]
  },
  {
   "cell_type": "code",
   "execution_count": 4,
   "metadata": {},
   "outputs": [
    {
     "name": "stdout",
     "output_type": "stream",
     "text": [
      "<class 'pandas.core.frame.DataFrame'>\n",
      "RangeIndex: 50000 entries, 0 to 49999\n",
      "Data columns (total 2 columns):\n",
      " #   Column     Non-Null Count  Dtype \n",
      "---  ------     --------------  ----- \n",
      " 0   review     50000 non-null  object\n",
      " 1   sentiment  50000 non-null  object\n",
      "dtypes: object(2)\n",
      "memory usage: 781.4+ KB\n"
     ]
    }
   ],
   "source": [
    "# no null value\n",
    "# 50,000 reviews\n",
    "df.info()"
   ]
  },
  {
   "cell_type": "code",
   "execution_count": 5,
   "metadata": {},
   "outputs": [
    {
     "data": {
      "text/html": [
       "<div>\n",
       "<style scoped>\n",
       "    .dataframe tbody tr th:only-of-type {\n",
       "        vertical-align: middle;\n",
       "    }\n",
       "\n",
       "    .dataframe tbody tr th {\n",
       "        vertical-align: top;\n",
       "    }\n",
       "\n",
       "    .dataframe thead th {\n",
       "        text-align: right;\n",
       "    }\n",
       "</style>\n",
       "<table border=\"1\" class=\"dataframe\">\n",
       "  <thead>\n",
       "    <tr style=\"text-align: right;\">\n",
       "      <th></th>\n",
       "      <th>count</th>\n",
       "      <th>unique</th>\n",
       "      <th>top</th>\n",
       "      <th>freq</th>\n",
       "    </tr>\n",
       "  </thead>\n",
       "  <tbody>\n",
       "    <tr>\n",
       "      <th>review</th>\n",
       "      <td>50000</td>\n",
       "      <td>49582</td>\n",
       "      <td>Loved today's show!!! It was a variety and not...</td>\n",
       "      <td>5</td>\n",
       "    </tr>\n",
       "    <tr>\n",
       "      <th>sentiment</th>\n",
       "      <td>50000</td>\n",
       "      <td>2</td>\n",
       "      <td>negative</td>\n",
       "      <td>25000</td>\n",
       "    </tr>\n",
       "  </tbody>\n",
       "</table>\n",
       "</div>"
      ],
      "text/plain": [
       "           count unique                                                top  \\\n",
       "review     50000  49582  Loved today's show!!! It was a variety and not...   \n",
       "sentiment  50000      2                                           negative   \n",
       "\n",
       "            freq  \n",
       "review         5  \n",
       "sentiment  25000  "
      ]
     },
     "execution_count": 5,
     "metadata": {},
     "output_type": "execute_result"
    }
   ],
   "source": [
    "df.describe().T"
   ]
  },
  {
   "cell_type": "code",
   "execution_count": 6,
   "metadata": {},
   "outputs": [
    {
     "data": {
      "text/plain": [
       "negative    25000\n",
       "positive    25000\n",
       "Name: sentiment, dtype: int64"
      ]
     },
     "execution_count": 6,
     "metadata": {},
     "output_type": "execute_result"
    }
   ],
   "source": [
    "df['sentiment'].value_counts()"
   ]
  },
  {
   "cell_type": "code",
   "execution_count": 7,
   "metadata": {},
   "outputs": [
    {
     "data": {
      "text/plain": [
       "Index(['review', 'sentiment'], dtype='object')"
      ]
     },
     "execution_count": 7,
     "metadata": {},
     "output_type": "execute_result"
    }
   ],
   "source": [
    "df.columns"
   ]
  },
  {
   "cell_type": "code",
   "execution_count": 8,
   "metadata": {},
   "outputs": [],
   "source": [
    "labels = df[\"sentiment\"]\n",
    "features = df[\"review\"]"
   ]
  },
  {
   "cell_type": "code",
   "execution_count": 9,
   "metadata": {},
   "outputs": [
    {
     "data": {
      "text/plain": [
       "0    positive\n",
       "1    positive\n",
       "2    positive\n",
       "3    negative\n",
       "4    positive\n",
       "Name: sentiment, dtype: object"
      ]
     },
     "execution_count": 9,
     "metadata": {},
     "output_type": "execute_result"
    }
   ],
   "source": [
    "labels.head()"
   ]
  },
  {
   "cell_type": "code",
   "execution_count": 10,
   "metadata": {},
   "outputs": [
    {
     "data": {
      "text/plain": [
       "0    One of the other reviewers has mentioned that ...\n",
       "1    A wonderful little production. <br /><br />The...\n",
       "2    I thought this was a wonderful way to spend ti...\n",
       "3    Basically there's a family where a little boy ...\n",
       "4    Petter Mattei's \"Love in the Time of Money\" is...\n",
       "Name: review, dtype: object"
      ]
     },
     "execution_count": 10,
     "metadata": {},
     "output_type": "execute_result"
    }
   ],
   "source": [
    "features.head()"
   ]
  },
  {
   "cell_type": "markdown",
   "metadata": {},
   "source": [
    "# Training & testing Split"
   ]
  },
  {
   "cell_type": "code",
   "execution_count": 11,
   "metadata": {},
   "outputs": [
    {
     "name": "stdout",
     "output_type": "stream",
     "text": [
      "train_text : (37500,)\n",
      "train_label : (37500,)\n",
      "test_text : (12500,)\n",
      "test_label : (12500,)\n"
     ]
    }
   ],
   "source": [
    "from sklearn.model_selection import train_test_split\n",
    "\n",
    "train_text, test_text, train_label, test_label = train_test_split(features,labels)\n",
    "\n",
    "print(\"train_text :\",train_text.shape)\n",
    "print(\"train_label :\",train_label.shape)\n",
    "print(\"test_text :\",test_text.shape)\n",
    "print(\"test_label :\",test_label.shape)"
   ]
  },
  {
   "cell_type": "markdown",
   "metadata": {},
   "source": [
    "#  Encoding Labels"
   ]
  },
  {
   "cell_type": "code",
   "execution_count": 12,
   "metadata": {},
   "outputs": [
    {
     "name": "stdout",
     "output_type": "stream",
     "text": [
      "[1 0 0 ... 0 0 1]\n",
      "[1 0 1 ... 0 0 0]\n"
     ]
    }
   ],
   "source": [
    "from sklearn import preprocessing\n",
    "le = preprocessing.LabelEncoder()\n",
    "y_train = le.fit_transform(train_label)\n",
    "y_test = le.fit_transform(test_label)\n",
    "print(y_train)\n",
    "print(y_test)"
   ]
  },
  {
   "cell_type": "code",
   "execution_count": 13,
   "metadata": {},
   "outputs": [
    {
     "name": "stdout",
     "output_type": "stream",
     "text": [
      "['positive' 'negative' 'negative' ... 'negative' 'negative' 'positive']\n",
      "['positive' 'negative' 'positive' ... 'negative' 'negative' 'negative']\n"
     ]
    }
   ],
   "source": [
    "# This is how we see actual value\n",
    "print(le.inverse_transform(y_train))\n",
    "print(le.inverse_transform(y_test))"
   ]
  },
  {
   "cell_type": "code",
   "execution_count": 14,
   "metadata": {},
   "outputs": [
    {
     "name": "stdout",
     "output_type": "stream",
     "text": [
      "0 = Negative\n",
      "1 = Positive\n"
     ]
    }
   ],
   "source": [
    "print(\"0 = Negative\")\n",
    "print(\"1 = Positive\")"
   ]
  },
  {
   "cell_type": "markdown",
   "metadata": {},
   "source": [
    "# Tokenizing the text"
   ]
  },
  {
   "cell_type": "code",
   "execution_count": 15,
   "metadata": {},
   "outputs": [],
   "source": [
    "max_words = 10000 # most frequent word used\n",
    "tokenizer = tf.keras.preprocessing.text.Tokenizer(num_words=max_words)\n",
    "tokenizer.fit_on_texts(train_text)\n",
    "tokenizer.fit_on_texts(test_text)\n",
    "x_train = tokenizer.texts_to_matrix(train_text)\n",
    "x_test = tokenizer.texts_to_matrix(test_text)"
   ]
  },
  {
   "cell_type": "code",
   "execution_count": 16,
   "metadata": {},
   "outputs": [
    {
     "name": "stdout",
     "output_type": "stream",
     "text": [
      "(37500, 10000)\n",
      "\n",
      "[[0. 1. 1. ... 0. 0. 0.]\n",
      " [0. 1. 1. ... 0. 0. 0.]\n",
      " [0. 1. 1. ... 0. 0. 0.]\n",
      " ...\n",
      " [0. 1. 1. ... 0. 0. 0.]\n",
      " [0. 1. 1. ... 0. 0. 0.]\n",
      " [0. 1. 1. ... 0. 0. 0.]]\n"
     ]
    }
   ],
   "source": [
    "print(x_train.shape)\n",
    "print()\n",
    "print(x_train)"
   ]
  },
  {
   "cell_type": "code",
   "execution_count": 17,
   "metadata": {},
   "outputs": [
    {
     "name": "stdout",
     "output_type": "stream",
     "text": [
      "[[0. 1. 1. ... 0. 0. 0.]\n",
      " [0. 1. 1. ... 0. 0. 0.]\n",
      " [0. 1. 1. ... 0. 0. 0.]\n",
      " ...\n",
      " [0. 1. 1. ... 0. 0. 0.]\n",
      " [0. 1. 1. ... 0. 0. 0.]\n",
      " [0. 1. 1. ... 0. 0. 0.]]\n"
     ]
    }
   ],
   "source": [
    "print(x_test)"
   ]
  },
  {
   "cell_type": "code",
   "execution_count": 18,
   "metadata": {},
   "outputs": [
    {
     "name": "stdout",
     "output_type": "stream",
     "text": [
      "x_train : (37500, 10000)\n",
      "y_train (37500,)\n",
      "x_test : (12500, 10000)\n",
      "y_test : (12500,)\n"
     ]
    }
   ],
   "source": [
    "print(\"x_train :\",x_train.shape)\n",
    "print(\"y_train\",y_train.shape)\n",
    "print(\"x_test :\",x_test.shape)\n",
    "print(\"y_test :\",y_test.shape)"
   ]
  },
  {
   "cell_type": "markdown",
   "metadata": {},
   "source": [
    "# First Model"
   ]
  },
  {
   "cell_type": "code",
   "execution_count": 19,
   "metadata": {},
   "outputs": [
    {
     "name": "stdout",
     "output_type": "stream",
     "text": [
      "Train on 30000 samples, validate on 7500 samples\n",
      "Epoch 1/10\n",
      "30000/30000 [==============================] - 9s 299us/sample - loss: 0.3169 - accuracy: 0.8688 - val_loss: 0.2855 - val_accuracy: 0.8836\n",
      "Epoch 2/10\n",
      "30000/30000 [==============================] - 7s 235us/sample - loss: 0.2118 - accuracy: 0.9189 - val_loss: 0.2743 - val_accuracy: 0.8932\n",
      "Epoch 3/10\n",
      "30000/30000 [==============================] - 7s 246us/sample - loss: 0.1715 - accuracy: 0.9366 - val_loss: 0.2871 - val_accuracy: 0.8820\n",
      "Epoch 4/10\n",
      "30000/30000 [==============================] - 8s 261us/sample - loss: 0.1304 - accuracy: 0.9548 - val_loss: 0.3208 - val_accuracy: 0.8895\n",
      "Epoch 5/10\n",
      "30000/30000 [==============================] - 8s 270us/sample - loss: 0.0905 - accuracy: 0.9711 - val_loss: 0.3687 - val_accuracy: 0.8808\n",
      "Epoch 6/10\n",
      "30000/30000 [==============================] - 8s 265us/sample - loss: 0.0576 - accuracy: 0.9831 - val_loss: 0.4570 - val_accuracy: 0.8765\n",
      "Epoch 7/10\n",
      "30000/30000 [==============================] - 8s 268us/sample - loss: 0.0376 - accuracy: 0.9894 - val_loss: 0.5722 - val_accuracy: 0.8747\n",
      "Epoch 8/10\n",
      "30000/30000 [==============================] - 8s 265us/sample - loss: 0.0229 - accuracy: 0.9941 - val_loss: 0.6594 - val_accuracy: 0.8677\n",
      "Epoch 9/10\n",
      "30000/30000 [==============================] - 8s 259us/sample - loss: 0.0170 - accuracy: 0.9961 - val_loss: 1.1016 - val_accuracy: 0.8711\n",
      "Epoch 10/10\n",
      "30000/30000 [==============================] - 8s 260us/sample - loss: 0.0112 - accuracy: 0.9972 - val_loss: 1.1117 - val_accuracy: 0.8723\n"
     ]
    }
   ],
   "source": [
    "input_shape = 10000\n",
    "\n",
    "models = tf.keras.Sequential\n",
    "layers = tf.keras.layers\n",
    "\n",
    "model = models([layers.Dense(64,activation=\"relu\",input_shape=(input_shape,)),\n",
    "                layers.Dense(32,activation=\"relu\"),\n",
    "                layers.Dense(16,activation=\"relu\"),\n",
    "                layers.Dense(1, activation='sigmoid')])\n",
    "\n",
    "model.compile(optimizer=\"rmsprop\", # adam\n",
    "             loss=\"binary_crossentropy\",\n",
    "             metrics=[\"accuracy\"])\n",
    "\n",
    "history = model.fit(x_train,y_train,epochs=10,validation_split=(0.2))"
   ]
  },
  {
   "cell_type": "code",
   "execution_count": 20,
   "metadata": {},
   "outputs": [
    {
     "name": "stdout",
     "output_type": "stream",
     "text": [
      "12500/1 - 2s - loss: 0.6111 - accuracy: 0.8714\n",
      "\n",
      "Loss:  119.1347455123663 %\n",
      "Accuracy:  87.14399933815002 %\n"
     ]
    }
   ],
   "source": [
    "evaluation = model.evaluate(x_test,y_test,verbose=2)\n",
    "print()\n",
    "print(\"Loss: \",evaluation[0]*100,\"%\")\n",
    "print(\"Accuracy: \",evaluation[1]*100,\"%\")"
   ]
  },
  {
   "cell_type": "code",
   "execution_count": 21,
   "metadata": {},
   "outputs": [
    {
     "data": {
      "image/png": "[encoded data removed]",
      "text/plain": [
       "<Figure size 432x288 with 1 Axes>"
      ]
     },
     "metadata": {
      "needs_background": "light"
     },
     "output_type": "display_data"
    }
   ],
   "source": [
    "#Plotting the training and validation loss\n",
    "\n",
    "loss = history.history['loss']\n",
    "val_loss = history.history['val_loss']\n",
    "\n",
    "epochs = range(1, len(loss) + 1)\n",
    "\n",
    "plt.plot(epochs, loss, 'bo', label='Training loss')\n",
    "plt.plot(epochs, val_loss, 'b', label='Validation loss')\n",
    "plt.title('Training and validation loss')\n",
    "plt.xlabel('Epochs')\n",
    "plt.ylabel('Loss')\n",
    "plt.legend()\n",
    "plt.show()"
   ]
  },
  {
   "cell_type": "code",
   "execution_count": 22,
   "metadata": {},
   "outputs": [
    {
     "data": {
      "image/png": "[encoded data removed]",
      "text/plain": [
       "<Figure size 432x288 with 1 Axes>"
      ]
     },
     "metadata": {
      "needs_background": "light"
     },
     "output_type": "display_data"
    }
   ],
   "source": [
    "#Plotting the training and validation Avvuracy\n",
    "\n",
    "acc = history.history['accuracy']\n",
    "val_acc = history.history['val_accuracy']\n",
    "\n",
    "epochs = range(1, len(acc) + 1)\n",
    "\n",
    "plt.plot(epochs, acc, 'bo', label='Training acc')\n",
    "plt.plot(epochs, val_acc, 'b', label='Validation acc')\n",
    "plt.title('Training and validation acc')\n",
    "plt.xlabel('Epochs')\n",
    "plt.ylabel('acc')\n",
    "plt.legend()\n",
    "plt.show()"
   ]
  },
  {
   "cell_type": "markdown",
   "metadata": {},
   "source": [
    "# Prediction"
   ]
  },
  {
   "cell_type": "code",
   "execution_count": 23,
   "metadata": {},
   "outputs": [],
   "source": [
    "#print(model.predict(x_test[0].reshape(10000,1).transpose()))\n",
    "# or\n",
    "#predict = 0\n",
    "#prediction = model.predict(np.array([x_test[predict]]))\n",
    "#prediction"
   ]
  },
  {
   "cell_type": "code",
   "execution_count": 28,
   "metadata": {},
   "outputs": [
    {
     "name": "stdout",
     "output_type": "stream",
     "text": [
      "0 = Negative Review\n",
      "1 = Positive Review\n",
      "\n",
      "Predicted:  [[1]]\n",
      "Actual LabelL : 1\n",
      "\n",
      "Actual text:  I just saw this film @ TIFF (Toronto International Film Festival). Fans of Hal Hartley will not be disappointed!! And if you are not familiar with this director's oeuvre ... doesn't matter. This film \n"
     ]
    }
   ],
   "source": [
    "print(\"0 = Negative Review\")\n",
    "print(\"1 = Positive Review\")\n",
    "print()\n",
    "predict = 0\n",
    "prediction = model.predict_classes(x_test[0].reshape(10000,1).transpose())\n",
    "print(\"Predicted: \",prediction)\n",
    "print(\"Actual LabelL :\",y_test[0])\n",
    "print()\n",
    "print(\"Actual text: \",test_text.iloc[0][:200])"
   ]
  },
  {
   "cell_type": "markdown",
   "metadata": {},
   "source": [
    "# # Hyperperameter tuning"
   ]
  },
  {
   "cell_type": "code",
   "execution_count": 25,
   "metadata": {},
   "outputs": [],
   "source": [
    "models = tf.keras.Sequential\n",
    "layers = tf.keras.layers\n",
    "    \n",
    "def tuning(epochs,drop_ratio,batch_size):\n",
    "    model1 = models([layers.Dense(16,activation=\"relu\",input_shape=(input_shape,)),\n",
    "                #layers.Dense(32,activation=\"relu\"),\n",
    "                layers.Dropout(drop_ratio),\n",
    "                layers.Dense(16,activation=\"relu\"),\n",
    "                layers.Dense(1, activation='sigmoid')])\n",
    "\n",
    "    model1.compile(optimizer=\"adam\", # adam #rmsprop\n",
    "             loss=\"binary_crossentropy\", #binary_crossentropy\n",
    "             metrics=[\"accuracy\"])\n",
    "\n",
    "    history = model1.fit(x_train,y_train,batch_size=batch_size,epochs=epochs,validation_split=(0.2))\n",
    "    \n",
    "    evaluation = model1.evaluate(x_test,y_test,verbose=2)\n",
    "    print()\n",
    "    print(\"Loss: \",evaluation[0]*100,\"%\")\n",
    "    print(\"Accuracy: \",evaluation[1]*100,\"%\")\n",
    "    #return model1\n",
    "    \n",
    "        \n",
    "    #Plotting the training and validation loss\n",
    "\n",
    "    loss = history.history['loss']\n",
    "    val_loss = history.history['val_loss']\n",
    "\n",
    "    epochs = range(1, len(loss) + 1)\n",
    "\n",
    "    plt.plot(epochs, loss, 'bo', label='Training loss')\n",
    "    plt.plot(epochs, val_loss, 'b', label='Validation loss')\n",
    "    plt.title('Training and validation loss')\n",
    "    plt.xlabel('Epochs')\n",
    "    plt.ylabel('Loss')\n",
    "    plt.legend()\n",
    "    plt.show()\n",
    "\n",
    "    acc = history.history['accuracy']\n",
    "    val_acc = history.history['val_accuracy']\n",
    "\n",
    "    epochs = range(1, len(acc) + 1)\n",
    "\n",
    "    plt.plot(epochs, acc, 'bo', label='Training acc')\n",
    "    plt.plot(epochs, val_acc, 'b', label='Validation acc')\n",
    "    plt.title('Training and validation acc')\n",
    "    plt.xlabel('Epochs')\n",
    "    plt.ylabel('acc')\n",
    "    plt.legend()\n",
    "    plt.show()\n",
    "    \n",
    "    print(\"Test loss :\",evaluation[0]*100,\"%\")\n",
    "    print(\"Test accuracy :\",evaluation[1]*100,\"%\")"
   ]
  },
  {
   "cell_type": "code",
   "execution_count": 26,
   "metadata": {},
   "outputs": [
    {
     "name": "stdout",
     "output_type": "stream",
     "text": [
      "Train on 30000 samples, validate on 7500 samples\n",
      "Epoch 1/2\n",
      "30000/30000 [==============================] - 9s 286us/sample - loss: 0.3267 - accuracy: 0.8656 - val_loss: 0.2625 - val_accuracy: 0.8965\n",
      "Epoch 2/2\n",
      "30000/30000 [==============================] - 8s 263us/sample - loss: 0.1915 - accuracy: 0.9266 - val_loss: 0.2788 - val_accuracy: 0.8892\n",
      "12500/1 - 2s - loss: 0.2218 - accuracy: 0.8870\n",
      "\n",
      "Loss:  27.984613540172575 %\n",
      "Accuracy:  88.70400190353394 %\n"
     ]
    },
    {
     "data": {
      "image/png": "[encoded data removed]",
      "text/plain": [
       "<Figure size 432x288 with 1 Axes>"
      ]
     },
     "metadata": {
      "needs_background": "light"
     },
     "output_type": "display_data"
    },
    {
     "data": {
      "image/png": "[encoded data removed]",
      "text/plain": [
       "<Figure size 432x288 with 1 Axes>"
      ]
     },
     "metadata": {
      "needs_background": "light"
     },
     "output_type": "display_data"
    },
    {
     "name": "stdout",
     "output_type": "stream",
     "text": [
      "Test loss : 27.984613540172575 %\n",
      "Test accuracy : 88.70400190353394 %\n"
     ]
    }
   ],
   "source": [
    "epochs = 2\n",
    "drop_ratio = 0.005\n",
    "batch_size = 32\n",
    "\n",
    "tuning(epochs,drop_ratio,batch_size)"
   ]
  },
  {
   "cell_type": "code",
   "execution_count": null,
   "metadata": {},
   "outputs": [],
   "source": []
  }
 ],
 "metadata": {
  "kernelspec": {
   "display_name": "gputest",
   "language": "python",
   "name": "gputest"
  },
  "language_info": {
   "codemirror_mode": {
    "name": "ipython",
    "version": 3
   },
   "file_extension": ".py",
   "mimetype": "text/x-python",
   "name": "python",
   "nbconvert_exporter": "python",
   "pygments_lexer": "ipython3",
   "version": "3.7.6"
  }
 },
 "nbformat": 4,
 "nbformat_minor": 2
}
